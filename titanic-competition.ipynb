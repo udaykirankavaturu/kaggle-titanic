{
 "cells": [
  {
   "cell_type": "code",
   "execution_count": 1,
   "id": "bf7dff01",
   "metadata": {
    "_cell_guid": "b1076dfc-b9ad-4769-8c92-a6c4dae69d19",
    "_uuid": "8f2839f25d086af736a60e9eeb907d3b93b6e0e5",
    "execution": {
     "iopub.execute_input": "2023-06-08T04:59:20.595671Z",
     "iopub.status.busy": "2023-06-08T04:59:20.594833Z",
     "iopub.status.idle": "2023-06-08T04:59:20.618063Z",
     "shell.execute_reply": "2023-06-08T04:59:20.616392Z"
    },
    "papermill": {
     "duration": 0.054064,
     "end_time": "2023-06-08T04:59:20.622167",
     "exception": false,
     "start_time": "2023-06-08T04:59:20.568103",
     "status": "completed"
    },
    "tags": []
   },
   "outputs": [
    {
     "name": "stdout",
     "output_type": "stream",
     "text": [
      "/kaggle/input/titanic/train.csv\n",
      "/kaggle/input/titanic/test.csv\n",
      "/kaggle/input/titanic/gender_submission.csv\n"
     ]
    }
   ],
   "source": [
    "# This Python 3 environment comes with many helpful analytics libraries installed\n",
    "# It is defined by the kaggle/python Docker image: https://github.com/kaggle/docker-python\n",
    "# For example, here's several helpful packages to load\n",
    "\n",
    "import numpy as np # linear algebra\n",
    "import pandas as pd # data processing, CSV file I/O (e.g. pd.read_csv)\n",
    "import matplotlib.pyplot as plt\n",
    "\n",
    "# Input data files are available in the read-only \"../input/\" directory\n",
    "# For example, running this (by clicking run or pressing Shift+Enter) will list all files under the input directory\n",
    "\n",
    "import os\n",
    "for dirname, _, filenames in os.walk('/kaggle/input'):\n",
    "    for filename in filenames:\n",
    "        print(os.path.join(dirname, filename))\n",
    "\n",
    "# You can write up to 20GB to the current directory (/kaggle/working/) that gets preserved as output when you create a version using \"Save & Run All\" \n",
    "# You can also write temporary files to /kaggle/temp/, but they won't be saved outside of the current session"
   ]
  },
  {
   "cell_type": "code",
   "execution_count": 2,
   "id": "e8edc0f2",
   "metadata": {
    "execution": {
     "iopub.execute_input": "2023-06-08T04:59:20.665772Z",
     "iopub.status.busy": "2023-06-08T04:59:20.664875Z",
     "iopub.status.idle": "2023-06-08T04:59:20.693531Z",
     "shell.execute_reply": "2023-06-08T04:59:20.692349Z"
    },
    "papermill": {
     "duration": 0.054115,
     "end_time": "2023-06-08T04:59:20.697555",
     "exception": false,
     "start_time": "2023-06-08T04:59:20.643440",
     "status": "completed"
    },
    "tags": []
   },
   "outputs": [],
   "source": [
    "# read data\n",
    "train_data_df = pd.read_csv('/kaggle/input/titanic/train.csv')"
   ]
  },
  {
   "cell_type": "code",
   "execution_count": 3,
   "id": "87bb9356",
   "metadata": {
    "execution": {
     "iopub.execute_input": "2023-06-08T04:59:20.742762Z",
     "iopub.status.busy": "2023-06-08T04:59:20.741795Z",
     "iopub.status.idle": "2023-06-08T04:59:20.779201Z",
     "shell.execute_reply": "2023-06-08T04:59:20.777732Z"
    },
    "papermill": {
     "duration": 0.060683,
     "end_time": "2023-06-08T04:59:20.782676",
     "exception": false,
     "start_time": "2023-06-08T04:59:20.721993",
     "status": "completed"
    },
    "tags": []
   },
   "outputs": [
    {
     "data": {
      "text/html": [
       "<div>\n",
       "<style scoped>\n",
       "    .dataframe tbody tr th:only-of-type {\n",
       "        vertical-align: middle;\n",
       "    }\n",
       "\n",
       "    .dataframe tbody tr th {\n",
       "        vertical-align: top;\n",
       "    }\n",
       "\n",
       "    .dataframe thead th {\n",
       "        text-align: right;\n",
       "    }\n",
       "</style>\n",
       "<table border=\"1\" class=\"dataframe\">\n",
       "  <thead>\n",
       "    <tr style=\"text-align: right;\">\n",
       "      <th></th>\n",
       "      <th>PassengerId</th>\n",
       "      <th>Survived</th>\n",
       "      <th>Pclass</th>\n",
       "      <th>Name</th>\n",
       "      <th>Sex</th>\n",
       "      <th>Age</th>\n",
       "      <th>SibSp</th>\n",
       "      <th>Parch</th>\n",
       "      <th>Ticket</th>\n",
       "      <th>Fare</th>\n",
       "      <th>Cabin</th>\n",
       "      <th>Embarked</th>\n",
       "    </tr>\n",
       "  </thead>\n",
       "  <tbody>\n",
       "    <tr>\n",
       "      <th>0</th>\n",
       "      <td>1</td>\n",
       "      <td>0</td>\n",
       "      <td>3</td>\n",
       "      <td>Braund, Mr. Owen Harris</td>\n",
       "      <td>male</td>\n",
       "      <td>22.0</td>\n",
       "      <td>1</td>\n",
       "      <td>0</td>\n",
       "      <td>A/5 21171</td>\n",
       "      <td>7.2500</td>\n",
       "      <td>NaN</td>\n",
       "      <td>S</td>\n",
       "    </tr>\n",
       "    <tr>\n",
       "      <th>1</th>\n",
       "      <td>2</td>\n",
       "      <td>1</td>\n",
       "      <td>1</td>\n",
       "      <td>Cumings, Mrs. John Bradley (Florence Briggs Th...</td>\n",
       "      <td>female</td>\n",
       "      <td>38.0</td>\n",
       "      <td>1</td>\n",
       "      <td>0</td>\n",
       "      <td>PC 17599</td>\n",
       "      <td>71.2833</td>\n",
       "      <td>C85</td>\n",
       "      <td>C</td>\n",
       "    </tr>\n",
       "    <tr>\n",
       "      <th>2</th>\n",
       "      <td>3</td>\n",
       "      <td>1</td>\n",
       "      <td>3</td>\n",
       "      <td>Heikkinen, Miss. Laina</td>\n",
       "      <td>female</td>\n",
       "      <td>26.0</td>\n",
       "      <td>0</td>\n",
       "      <td>0</td>\n",
       "      <td>STON/O2. 3101282</td>\n",
       "      <td>7.9250</td>\n",
       "      <td>NaN</td>\n",
       "      <td>S</td>\n",
       "    </tr>\n",
       "    <tr>\n",
       "      <th>3</th>\n",
       "      <td>4</td>\n",
       "      <td>1</td>\n",
       "      <td>1</td>\n",
       "      <td>Futrelle, Mrs. Jacques Heath (Lily May Peel)</td>\n",
       "      <td>female</td>\n",
       "      <td>35.0</td>\n",
       "      <td>1</td>\n",
       "      <td>0</td>\n",
       "      <td>113803</td>\n",
       "      <td>53.1000</td>\n",
       "      <td>C123</td>\n",
       "      <td>S</td>\n",
       "    </tr>\n",
       "    <tr>\n",
       "      <th>4</th>\n",
       "      <td>5</td>\n",
       "      <td>0</td>\n",
       "      <td>3</td>\n",
       "      <td>Allen, Mr. William Henry</td>\n",
       "      <td>male</td>\n",
       "      <td>35.0</td>\n",
       "      <td>0</td>\n",
       "      <td>0</td>\n",
       "      <td>373450</td>\n",
       "      <td>8.0500</td>\n",
       "      <td>NaN</td>\n",
       "      <td>S</td>\n",
       "    </tr>\n",
       "  </tbody>\n",
       "</table>\n",
       "</div>"
      ],
      "text/plain": [
       "   PassengerId  Survived  Pclass  \\\n",
       "0            1         0       3   \n",
       "1            2         1       1   \n",
       "2            3         1       3   \n",
       "3            4         1       1   \n",
       "4            5         0       3   \n",
       "\n",
       "                                                Name     Sex   Age  SibSp  \\\n",
       "0                            Braund, Mr. Owen Harris    male  22.0      1   \n",
       "1  Cumings, Mrs. John Bradley (Florence Briggs Th...  female  38.0      1   \n",
       "2                             Heikkinen, Miss. Laina  female  26.0      0   \n",
       "3       Futrelle, Mrs. Jacques Heath (Lily May Peel)  female  35.0      1   \n",
       "4                           Allen, Mr. William Henry    male  35.0      0   \n",
       "\n",
       "   Parch            Ticket     Fare Cabin Embarked  \n",
       "0      0         A/5 21171   7.2500   NaN        S  \n",
       "1      0          PC 17599  71.2833   C85        C  \n",
       "2      0  STON/O2. 3101282   7.9250   NaN        S  \n",
       "3      0            113803  53.1000  C123        S  \n",
       "4      0            373450   8.0500   NaN        S  "
      ]
     },
     "execution_count": 3,
     "metadata": {},
     "output_type": "execute_result"
    }
   ],
   "source": [
    "# check data\n",
    "train_data_df.head()"
   ]
  },
  {
   "cell_type": "code",
   "execution_count": 4,
   "id": "b29b6278",
   "metadata": {
    "execution": {
     "iopub.execute_input": "2023-06-08T04:59:20.822073Z",
     "iopub.status.busy": "2023-06-08T04:59:20.821220Z",
     "iopub.status.idle": "2023-06-08T04:59:20.828786Z",
     "shell.execute_reply": "2023-06-08T04:59:20.827674Z"
    },
    "papermill": {
     "duration": 0.030203,
     "end_time": "2023-06-08T04:59:20.831604",
     "exception": false,
     "start_time": "2023-06-08T04:59:20.801401",
     "status": "completed"
    },
    "tags": []
   },
   "outputs": [
    {
     "data": {
      "text/plain": [
       "(891, 12)"
      ]
     },
     "execution_count": 4,
     "metadata": {},
     "output_type": "execute_result"
    }
   ],
   "source": [
    "# check shape\n",
    "train_data_df.shape"
   ]
  },
  {
   "cell_type": "code",
   "execution_count": 5,
   "id": "98f16183",
   "metadata": {
    "execution": {
     "iopub.execute_input": "2023-06-08T04:59:20.869137Z",
     "iopub.status.busy": "2023-06-08T04:59:20.868412Z",
     "iopub.status.idle": "2023-06-08T04:59:20.880455Z",
     "shell.execute_reply": "2023-06-08T04:59:20.879028Z"
    },
    "papermill": {
     "duration": 0.034595,
     "end_time": "2023-06-08T04:59:20.883607",
     "exception": false,
     "start_time": "2023-06-08T04:59:20.849012",
     "status": "completed"
    },
    "tags": []
   },
   "outputs": [
    {
     "data": {
      "text/plain": [
       "PassengerId      0\n",
       "Survived         0\n",
       "Pclass           0\n",
       "Name             0\n",
       "Sex              0\n",
       "Age            177\n",
       "SibSp            0\n",
       "Parch            0\n",
       "Ticket           0\n",
       "Fare             0\n",
       "Cabin          687\n",
       "Embarked         2\n",
       "dtype: int64"
      ]
     },
     "execution_count": 5,
     "metadata": {},
     "output_type": "execute_result"
    }
   ],
   "source": [
    "# check for null values\n",
    "train_data_df.isna().sum()"
   ]
  },
  {
   "cell_type": "code",
   "execution_count": 6,
   "id": "32a87f42",
   "metadata": {
    "execution": {
     "iopub.execute_input": "2023-06-08T04:59:20.921954Z",
     "iopub.status.busy": "2023-06-08T04:59:20.921494Z",
     "iopub.status.idle": "2023-06-08T04:59:20.939705Z",
     "shell.execute_reply": "2023-06-08T04:59:20.938302Z"
    },
    "papermill": {
     "duration": 0.041238,
     "end_time": "2023-06-08T04:59:20.943245",
     "exception": false,
     "start_time": "2023-06-08T04:59:20.902007",
     "status": "completed"
    },
    "tags": []
   },
   "outputs": [
    {
     "data": {
      "text/plain": [
       "347082      7\n",
       "CA. 2343    7\n",
       "1601        7\n",
       "3101295     6\n",
       "CA 2144     6\n",
       "           ..\n",
       "9234        1\n",
       "19988       1\n",
       "2693        1\n",
       "PC 17612    1\n",
       "370376      1\n",
       "Name: Ticket, Length: 681, dtype: int64"
      ]
     },
     "execution_count": 6,
     "metadata": {},
     "output_type": "execute_result"
    }
   ],
   "source": [
    "train_data_df.Ticket.value_counts()"
   ]
  },
  {
   "cell_type": "code",
   "execution_count": 7,
   "id": "de553963",
   "metadata": {
    "execution": {
     "iopub.execute_input": "2023-06-08T04:59:20.982722Z",
     "iopub.status.busy": "2023-06-08T04:59:20.982268Z",
     "iopub.status.idle": "2023-06-08T04:59:21.005624Z",
     "shell.execute_reply": "2023-06-08T04:59:21.004083Z"
    },
    "papermill": {
     "duration": 0.046381,
     "end_time": "2023-06-08T04:59:21.008469",
     "exception": false,
     "start_time": "2023-06-08T04:59:20.962088",
     "status": "completed"
    },
    "tags": []
   },
   "outputs": [
    {
     "data": {
      "text/html": [
       "<div>\n",
       "<style scoped>\n",
       "    .dataframe tbody tr th:only-of-type {\n",
       "        vertical-align: middle;\n",
       "    }\n",
       "\n",
       "    .dataframe tbody tr th {\n",
       "        vertical-align: top;\n",
       "    }\n",
       "\n",
       "    .dataframe thead th {\n",
       "        text-align: right;\n",
       "    }\n",
       "</style>\n",
       "<table border=\"1\" class=\"dataframe\">\n",
       "  <thead>\n",
       "    <tr style=\"text-align: right;\">\n",
       "      <th></th>\n",
       "      <th>PassengerId</th>\n",
       "      <th>Survived</th>\n",
       "      <th>Pclass</th>\n",
       "      <th>Age</th>\n",
       "      <th>SibSp</th>\n",
       "      <th>Parch</th>\n",
       "      <th>Fare</th>\n",
       "    </tr>\n",
       "  </thead>\n",
       "  <tbody>\n",
       "    <tr>\n",
       "      <th>PassengerId</th>\n",
       "      <td>1.000000</td>\n",
       "      <td>-0.005007</td>\n",
       "      <td>-0.035144</td>\n",
       "      <td>0.036847</td>\n",
       "      <td>-0.057527</td>\n",
       "      <td>-0.001652</td>\n",
       "      <td>0.012658</td>\n",
       "    </tr>\n",
       "    <tr>\n",
       "      <th>Survived</th>\n",
       "      <td>-0.005007</td>\n",
       "      <td>1.000000</td>\n",
       "      <td>-0.338481</td>\n",
       "      <td>-0.077221</td>\n",
       "      <td>-0.035322</td>\n",
       "      <td>0.081629</td>\n",
       "      <td>0.257307</td>\n",
       "    </tr>\n",
       "    <tr>\n",
       "      <th>Pclass</th>\n",
       "      <td>-0.035144</td>\n",
       "      <td>-0.338481</td>\n",
       "      <td>1.000000</td>\n",
       "      <td>-0.369226</td>\n",
       "      <td>0.083081</td>\n",
       "      <td>0.018443</td>\n",
       "      <td>-0.549500</td>\n",
       "    </tr>\n",
       "    <tr>\n",
       "      <th>Age</th>\n",
       "      <td>0.036847</td>\n",
       "      <td>-0.077221</td>\n",
       "      <td>-0.369226</td>\n",
       "      <td>1.000000</td>\n",
       "      <td>-0.308247</td>\n",
       "      <td>-0.189119</td>\n",
       "      <td>0.096067</td>\n",
       "    </tr>\n",
       "    <tr>\n",
       "      <th>SibSp</th>\n",
       "      <td>-0.057527</td>\n",
       "      <td>-0.035322</td>\n",
       "      <td>0.083081</td>\n",
       "      <td>-0.308247</td>\n",
       "      <td>1.000000</td>\n",
       "      <td>0.414838</td>\n",
       "      <td>0.159651</td>\n",
       "    </tr>\n",
       "    <tr>\n",
       "      <th>Parch</th>\n",
       "      <td>-0.001652</td>\n",
       "      <td>0.081629</td>\n",
       "      <td>0.018443</td>\n",
       "      <td>-0.189119</td>\n",
       "      <td>0.414838</td>\n",
       "      <td>1.000000</td>\n",
       "      <td>0.216225</td>\n",
       "    </tr>\n",
       "    <tr>\n",
       "      <th>Fare</th>\n",
       "      <td>0.012658</td>\n",
       "      <td>0.257307</td>\n",
       "      <td>-0.549500</td>\n",
       "      <td>0.096067</td>\n",
       "      <td>0.159651</td>\n",
       "      <td>0.216225</td>\n",
       "      <td>1.000000</td>\n",
       "    </tr>\n",
       "  </tbody>\n",
       "</table>\n",
       "</div>"
      ],
      "text/plain": [
       "             PassengerId  Survived    Pclass       Age     SibSp     Parch  \\\n",
       "PassengerId     1.000000 -0.005007 -0.035144  0.036847 -0.057527 -0.001652   \n",
       "Survived       -0.005007  1.000000 -0.338481 -0.077221 -0.035322  0.081629   \n",
       "Pclass         -0.035144 -0.338481  1.000000 -0.369226  0.083081  0.018443   \n",
       "Age             0.036847 -0.077221 -0.369226  1.000000 -0.308247 -0.189119   \n",
       "SibSp          -0.057527 -0.035322  0.083081 -0.308247  1.000000  0.414838   \n",
       "Parch          -0.001652  0.081629  0.018443 -0.189119  0.414838  1.000000   \n",
       "Fare            0.012658  0.257307 -0.549500  0.096067  0.159651  0.216225   \n",
       "\n",
       "                 Fare  \n",
       "PassengerId  0.012658  \n",
       "Survived     0.257307  \n",
       "Pclass      -0.549500  \n",
       "Age          0.096067  \n",
       "SibSp        0.159651  \n",
       "Parch        0.216225  \n",
       "Fare         1.000000  "
      ]
     },
     "execution_count": 7,
     "metadata": {},
     "output_type": "execute_result"
    }
   ],
   "source": [
    "# check correlation\n",
    "train_data_df.corr()\n"
   ]
  },
  {
   "cell_type": "code",
   "execution_count": 8,
   "id": "6df5f2e4",
   "metadata": {
    "execution": {
     "iopub.execute_input": "2023-06-08T04:59:21.047240Z",
     "iopub.status.busy": "2023-06-08T04:59:21.046683Z",
     "iopub.status.idle": "2023-06-08T04:59:21.057498Z",
     "shell.execute_reply": "2023-06-08T04:59:21.056202Z"
    },
    "papermill": {
     "duration": 0.034266,
     "end_time": "2023-06-08T04:59:21.060885",
     "exception": false,
     "start_time": "2023-06-08T04:59:21.026619",
     "status": "completed"
    },
    "tags": []
   },
   "outputs": [
    {
     "data": {
      "text/plain": [
       "PassengerId     True\n",
       "Survived        True\n",
       "Pclass          True\n",
       "Name           False\n",
       "Sex            False\n",
       "Age            False\n",
       "SibSp           True\n",
       "Parch           True\n",
       "Ticket         False\n",
       "Fare           False\n",
       "Cabin          False\n",
       "Embarked       False\n",
       "dtype: bool"
      ]
     },
     "execution_count": 8,
     "metadata": {},
     "output_type": "execute_result"
    }
   ],
   "source": [
    "# check data types\n",
    "train_data_df.dtypes == int"
   ]
  },
  {
   "cell_type": "code",
   "execution_count": 9,
   "id": "c3543903",
   "metadata": {
    "execution": {
     "iopub.execute_input": "2023-06-08T04:59:21.102189Z",
     "iopub.status.busy": "2023-06-08T04:59:21.100563Z",
     "iopub.status.idle": "2023-06-08T04:59:21.116009Z",
     "shell.execute_reply": "2023-06-08T04:59:21.114790Z"
    },
    "papermill": {
     "duration": 0.038317,
     "end_time": "2023-06-08T04:59:21.118819",
     "exception": false,
     "start_time": "2023-06-08T04:59:21.080502",
     "status": "completed"
    },
    "tags": []
   },
   "outputs": [
    {
     "data": {
      "text/plain": [
       "Index(['PassengerId', 'Survived', 'Pclass', 'Age', 'SibSp', 'Parch', 'Fare'], dtype='object')"
      ]
     },
     "execution_count": 9,
     "metadata": {},
     "output_type": "execute_result"
    }
   ],
   "source": [
    "numeric_variables = train_data_df.select_dtypes(include=['int', 'float']).columns\n",
    "numeric_variables"
   ]
  },
  {
   "cell_type": "code",
   "execution_count": 10,
   "id": "4bf242ad",
   "metadata": {
    "execution": {
     "iopub.execute_input": "2023-06-08T04:59:21.159361Z",
     "iopub.status.busy": "2023-06-08T04:59:21.158476Z",
     "iopub.status.idle": "2023-06-08T04:59:22.287544Z",
     "shell.execute_reply": "2023-06-08T04:59:22.285953Z"
    },
    "papermill": {
     "duration": 1.153041,
     "end_time": "2023-06-08T04:59:22.290775",
     "exception": false,
     "start_time": "2023-06-08T04:59:21.137734",
     "status": "completed"
    },
    "tags": []
   },
   "outputs": [
    {
     "data": {
      "image/png": "[encoded data removed]",
      "text/plain": [
       "<Figure size 1000x500 with 6 Axes>"
      ]
     },
     "metadata": {},
     "output_type": "display_data"
    }
   ],
   "source": [
    "# Create a subplot with 1 row and 2 columns\n",
    "fig, axes = plt.subplots(nrows=2, ncols=3, figsize=(10, 5))\n",
    "\n",
    "axes[0][0].hist(train_data_df[train_data_df.Survived == 1]['Pclass'])\n",
    "axes[0][0].set_title('survived Class')\n",
    "\n",
    "axes[0][1].hist(train_data_df[train_data_df.Survived != 1]['Pclass'])\n",
    "axes[0][1].set_title('non-survived Class')\n",
    "\n",
    "axes[0][2].hist(train_data_df[train_data_df.Survived == 1]['Age'])\n",
    "axes[0][2].set_title('survived Age')\n",
    "\n",
    "axes[1][0].hist(train_data_df[train_data_df.Survived != 1]['Age'])\n",
    "axes[1][0].set_title('non-survived Age')\n",
    "\n",
    "axes[1][1].hist(train_data_df[train_data_df.Survived == 1]['SibSp'])\n",
    "axes[1][1].set_title('survived SibSp')\n",
    "\n",
    "axes[1][2].hist(train_data_df[train_data_df.Survived != 1]['SibSp'])\n",
    "axes[1][2].set_title('non-survived SibSp')\n",
    "\n",
    "plt.tight_layout()\n",
    "plt.show()"
   ]
  },
  {
   "cell_type": "code",
   "execution_count": 11,
   "id": "f8915f04",
   "metadata": {
    "execution": {
     "iopub.execute_input": "2023-06-08T04:59:22.331761Z",
     "iopub.status.busy": "2023-06-08T04:59:22.331341Z",
     "iopub.status.idle": "2023-06-08T04:59:22.339659Z",
     "shell.execute_reply": "2023-06-08T04:59:22.338315Z"
    },
    "papermill": {
     "duration": 0.032984,
     "end_time": "2023-06-08T04:59:22.342959",
     "exception": false,
     "start_time": "2023-06-08T04:59:22.309975",
     "status": "completed"
    },
    "tags": []
   },
   "outputs": [],
   "source": [
    "# impute age with median\n",
    "train_data_df['Age'].fillna(train_data_df['Age'].median(),inplace=True)"
   ]
  },
  {
   "cell_type": "code",
   "execution_count": 12,
   "id": "45353980",
   "metadata": {
    "execution": {
     "iopub.execute_input": "2023-06-08T04:59:22.384172Z",
     "iopub.status.busy": "2023-06-08T04:59:22.383702Z",
     "iopub.status.idle": "2023-06-08T04:59:22.395393Z",
     "shell.execute_reply": "2023-06-08T04:59:22.394046Z"
    },
    "papermill": {
     "duration": 0.035651,
     "end_time": "2023-06-08T04:59:22.398722",
     "exception": false,
     "start_time": "2023-06-08T04:59:22.363071",
     "status": "completed"
    },
    "tags": []
   },
   "outputs": [
    {
     "data": {
      "text/plain": [
       "PassengerId      0\n",
       "Survived         0\n",
       "Pclass           0\n",
       "Name             0\n",
       "Sex              0\n",
       "Age              0\n",
       "SibSp            0\n",
       "Parch            0\n",
       "Ticket           0\n",
       "Fare             0\n",
       "Cabin          687\n",
       "Embarked         2\n",
       "dtype: int64"
      ]
     },
     "execution_count": 12,
     "metadata": {},
     "output_type": "execute_result"
    }
   ],
   "source": [
    "# check for null values\n",
    "train_data_df.isna().sum()"
   ]
  },
  {
   "cell_type": "code",
   "execution_count": 13,
   "id": "f478b797",
   "metadata": {
    "execution": {
     "iopub.execute_input": "2023-06-08T04:59:22.439928Z",
     "iopub.status.busy": "2023-06-08T04:59:22.439480Z",
     "iopub.status.idle": "2023-06-08T04:59:22.449862Z",
     "shell.execute_reply": "2023-06-08T04:59:22.448211Z"
    },
    "papermill": {
     "duration": 0.034193,
     "end_time": "2023-06-08T04:59:22.452779",
     "exception": false,
     "start_time": "2023-06-08T04:59:22.418586",
     "status": "completed"
    },
    "tags": []
   },
   "outputs": [
    {
     "data": {
      "text/plain": [
       "<bound method IndexOpsMixin.value_counts of 0       NaN\n",
       "1       C85\n",
       "2       NaN\n",
       "3      C123\n",
       "4       NaN\n",
       "       ... \n",
       "886     NaN\n",
       "887     B42\n",
       "888     NaN\n",
       "889    C148\n",
       "890     NaN\n",
       "Name: Cabin, Length: 891, dtype: object>"
      ]
     },
     "execution_count": 13,
     "metadata": {},
     "output_type": "execute_result"
    }
   ],
   "source": [
    "# check cabin\n",
    "train_data_df['Cabin'].value_counts"
   ]
  },
  {
   "cell_type": "code",
   "execution_count": 14,
   "id": "e9e9afd3",
   "metadata": {
    "execution": {
     "iopub.execute_input": "2023-06-08T04:59:22.494321Z",
     "iopub.status.busy": "2023-06-08T04:59:22.493781Z",
     "iopub.status.idle": "2023-06-08T04:59:22.500589Z",
     "shell.execute_reply": "2023-06-08T04:59:22.499429Z"
    },
    "papermill": {
     "duration": 0.030416,
     "end_time": "2023-06-08T04:59:22.503247",
     "exception": false,
     "start_time": "2023-06-08T04:59:22.472831",
     "status": "completed"
    },
    "tags": []
   },
   "outputs": [],
   "source": [
    "# drop cabin column\n",
    "train_data_df.drop('Cabin',axis=1,inplace=True)"
   ]
  },
  {
   "cell_type": "code",
   "execution_count": 15,
   "id": "41819b14",
   "metadata": {
    "execution": {
     "iopub.execute_input": "2023-06-08T04:59:22.544356Z",
     "iopub.status.busy": "2023-06-08T04:59:22.543895Z",
     "iopub.status.idle": "2023-06-08T04:59:22.551621Z",
     "shell.execute_reply": "2023-06-08T04:59:22.550029Z"
    },
    "papermill": {
     "duration": 0.031644,
     "end_time": "2023-06-08T04:59:22.554383",
     "exception": false,
     "start_time": "2023-06-08T04:59:22.522739",
     "status": "completed"
    },
    "tags": []
   },
   "outputs": [],
   "source": [
    "# drop name column, ticket column\n",
    "train_data_df.drop([\"Name\",\"Ticket\"],axis=1,inplace=True)"
   ]
  },
  {
   "cell_type": "code",
   "execution_count": 16,
   "id": "108db444",
   "metadata": {
    "execution": {
     "iopub.execute_input": "2023-06-08T04:59:22.597334Z",
     "iopub.status.busy": "2023-06-08T04:59:22.596819Z",
     "iopub.status.idle": "2023-06-08T04:59:22.604762Z",
     "shell.execute_reply": "2023-06-08T04:59:22.603224Z"
    },
    "papermill": {
     "duration": 0.032024,
     "end_time": "2023-06-08T04:59:22.607790",
     "exception": false,
     "start_time": "2023-06-08T04:59:22.575766",
     "status": "completed"
    },
    "tags": []
   },
   "outputs": [],
   "source": [
    "# drop passenger id\n",
    "train_data_df.drop([\"PassengerId\"],axis=1,inplace=True)"
   ]
  },
  {
   "cell_type": "code",
   "execution_count": 17,
   "id": "aaf34c58",
   "metadata": {
    "execution": {
     "iopub.execute_input": "2023-06-08T04:59:22.649079Z",
     "iopub.status.busy": "2023-06-08T04:59:22.648588Z",
     "iopub.status.idle": "2023-06-08T04:59:22.659653Z",
     "shell.execute_reply": "2023-06-08T04:59:22.658228Z"
    },
    "papermill": {
     "duration": 0.035165,
     "end_time": "2023-06-08T04:59:22.662608",
     "exception": false,
     "start_time": "2023-06-08T04:59:22.627443",
     "status": "completed"
    },
    "tags": []
   },
   "outputs": [
    {
     "data": {
      "text/plain": [
       "male      577\n",
       "female    314\n",
       "Name: Sex, dtype: int64"
      ]
     },
     "execution_count": 17,
     "metadata": {},
     "output_type": "execute_result"
    }
   ],
   "source": [
    "# check sex column\n",
    "train_data_df.Sex.value_counts()"
   ]
  },
  {
   "cell_type": "code",
   "execution_count": 18,
   "id": "af7dd0f5",
   "metadata": {
    "execution": {
     "iopub.execute_input": "2023-06-08T04:59:22.705221Z",
     "iopub.status.busy": "2023-06-08T04:59:22.704112Z",
     "iopub.status.idle": "2023-06-08T04:59:22.709815Z",
     "shell.execute_reply": "2023-06-08T04:59:22.708446Z"
    },
    "papermill": {
     "duration": 0.030661,
     "end_time": "2023-06-08T04:59:22.712712",
     "exception": false,
     "start_time": "2023-06-08T04:59:22.682051",
     "status": "completed"
    },
    "tags": []
   },
   "outputs": [],
   "source": [
    "# # make male = 1, female = 0\n",
    "# train_data_df['Sex'] = train_data_df['Sex'].map({'male': 1, 'female': 0})"
   ]
  },
  {
   "cell_type": "code",
   "execution_count": 19,
   "id": "744c4e90",
   "metadata": {
    "execution": {
     "iopub.execute_input": "2023-06-08T04:59:22.757182Z",
     "iopub.status.busy": "2023-06-08T04:59:22.754384Z",
     "iopub.status.idle": "2023-06-08T04:59:22.773163Z",
     "shell.execute_reply": "2023-06-08T04:59:22.771771Z"
    },
    "papermill": {
     "duration": 0.042685,
     "end_time": "2023-06-08T04:59:22.776071",
     "exception": false,
     "start_time": "2023-06-08T04:59:22.733386",
     "status": "completed"
    },
    "tags": []
   },
   "outputs": [
    {
     "data": {
      "text/html": [
       "<div>\n",
       "<style scoped>\n",
       "    .dataframe tbody tr th:only-of-type {\n",
       "        vertical-align: middle;\n",
       "    }\n",
       "\n",
       "    .dataframe tbody tr th {\n",
       "        vertical-align: top;\n",
       "    }\n",
       "\n",
       "    .dataframe thead th {\n",
       "        text-align: right;\n",
       "    }\n",
       "</style>\n",
       "<table border=\"1\" class=\"dataframe\">\n",
       "  <thead>\n",
       "    <tr style=\"text-align: right;\">\n",
       "      <th></th>\n",
       "      <th>Survived</th>\n",
       "      <th>Pclass</th>\n",
       "      <th>Sex</th>\n",
       "      <th>Age</th>\n",
       "      <th>SibSp</th>\n",
       "      <th>Parch</th>\n",
       "      <th>Fare</th>\n",
       "      <th>Embarked</th>\n",
       "    </tr>\n",
       "  </thead>\n",
       "  <tbody>\n",
       "    <tr>\n",
       "      <th>0</th>\n",
       "      <td>0</td>\n",
       "      <td>3</td>\n",
       "      <td>male</td>\n",
       "      <td>22.0</td>\n",
       "      <td>1</td>\n",
       "      <td>0</td>\n",
       "      <td>7.2500</td>\n",
       "      <td>S</td>\n",
       "    </tr>\n",
       "    <tr>\n",
       "      <th>1</th>\n",
       "      <td>1</td>\n",
       "      <td>1</td>\n",
       "      <td>female</td>\n",
       "      <td>38.0</td>\n",
       "      <td>1</td>\n",
       "      <td>0</td>\n",
       "      <td>71.2833</td>\n",
       "      <td>C</td>\n",
       "    </tr>\n",
       "    <tr>\n",
       "      <th>2</th>\n",
       "      <td>1</td>\n",
       "      <td>3</td>\n",
       "      <td>female</td>\n",
       "      <td>26.0</td>\n",
       "      <td>0</td>\n",
       "      <td>0</td>\n",
       "      <td>7.9250</td>\n",
       "      <td>S</td>\n",
       "    </tr>\n",
       "    <tr>\n",
       "      <th>3</th>\n",
       "      <td>1</td>\n",
       "      <td>1</td>\n",
       "      <td>female</td>\n",
       "      <td>35.0</td>\n",
       "      <td>1</td>\n",
       "      <td>0</td>\n",
       "      <td>53.1000</td>\n",
       "      <td>S</td>\n",
       "    </tr>\n",
       "    <tr>\n",
       "      <th>4</th>\n",
       "      <td>0</td>\n",
       "      <td>3</td>\n",
       "      <td>male</td>\n",
       "      <td>35.0</td>\n",
       "      <td>0</td>\n",
       "      <td>0</td>\n",
       "      <td>8.0500</td>\n",
       "      <td>S</td>\n",
       "    </tr>\n",
       "  </tbody>\n",
       "</table>\n",
       "</div>"
      ],
      "text/plain": [
       "   Survived  Pclass     Sex   Age  SibSp  Parch     Fare Embarked\n",
       "0         0       3    male  22.0      1      0   7.2500        S\n",
       "1         1       1  female  38.0      1      0  71.2833        C\n",
       "2         1       3  female  26.0      0      0   7.9250        S\n",
       "3         1       1  female  35.0      1      0  53.1000        S\n",
       "4         0       3    male  35.0      0      0   8.0500        S"
      ]
     },
     "execution_count": 19,
     "metadata": {},
     "output_type": "execute_result"
    }
   ],
   "source": [
    "# check df\n",
    "train_data_df.head()"
   ]
  },
  {
   "cell_type": "code",
   "execution_count": 20,
   "id": "3e3c146c",
   "metadata": {
    "execution": {
     "iopub.execute_input": "2023-06-08T04:59:22.820263Z",
     "iopub.status.busy": "2023-06-08T04:59:22.819020Z",
     "iopub.status.idle": "2023-06-08T04:59:22.826370Z",
     "shell.execute_reply": "2023-06-08T04:59:22.825006Z"
    },
    "papermill": {
     "duration": 0.032698,
     "end_time": "2023-06-08T04:59:22.829437",
     "exception": false,
     "start_time": "2023-06-08T04:59:22.796739",
     "status": "completed"
    },
    "tags": []
   },
   "outputs": [],
   "source": [
    "# convert age as int\n",
    "train_data_df['Age'] = train_data_df['Age'].astype(int)"
   ]
  },
  {
   "cell_type": "code",
   "execution_count": 21,
   "id": "b506779f",
   "metadata": {
    "execution": {
     "iopub.execute_input": "2023-06-08T04:59:22.872559Z",
     "iopub.status.busy": "2023-06-08T04:59:22.872111Z",
     "iopub.status.idle": "2023-06-08T04:59:22.883291Z",
     "shell.execute_reply": "2023-06-08T04:59:22.881706Z"
    },
    "papermill": {
     "duration": 0.036377,
     "end_time": "2023-06-08T04:59:22.886293",
     "exception": false,
     "start_time": "2023-06-08T04:59:22.849916",
     "status": "completed"
    },
    "tags": []
   },
   "outputs": [
    {
     "data": {
      "text/plain": [
       "S    644\n",
       "C    168\n",
       "Q     77\n",
       "Name: Embarked, dtype: int64"
      ]
     },
     "execution_count": 21,
     "metadata": {},
     "output_type": "execute_result"
    }
   ],
   "source": [
    "# check embarked column\n",
    "train_data_df.Embarked.value_counts()"
   ]
  },
  {
   "cell_type": "code",
   "execution_count": 22,
   "id": "9e3876ae",
   "metadata": {
    "execution": {
     "iopub.execute_input": "2023-06-08T04:59:22.929609Z",
     "iopub.status.busy": "2023-06-08T04:59:22.929148Z",
     "iopub.status.idle": "2023-06-08T04:59:22.941956Z",
     "shell.execute_reply": "2023-06-08T04:59:22.940879Z"
    },
    "papermill": {
     "duration": 0.037812,
     "end_time": "2023-06-08T04:59:22.944882",
     "exception": false,
     "start_time": "2023-06-08T04:59:22.907070",
     "status": "completed"
    },
    "tags": []
   },
   "outputs": [],
   "source": [
    "# one hot encode Embarked column and drop it from the original df\n",
    "encoded_df = pd.get_dummies(train_data_df['Embarked'], prefix='Embarked')\n",
    "df_encoded = pd.concat([train_data_df, encoded_df], axis=1)\n",
    "df_encoded = df_encoded.drop('Embarked', axis=1)"
   ]
  },
  {
   "cell_type": "code",
   "execution_count": 23,
   "id": "fdc0db2c",
   "metadata": {
    "execution": {
     "iopub.execute_input": "2023-06-08T04:59:22.987317Z",
     "iopub.status.busy": "2023-06-08T04:59:22.986846Z",
     "iopub.status.idle": "2023-06-08T04:59:22.998893Z",
     "shell.execute_reply": "2023-06-08T04:59:22.997341Z"
    },
    "papermill": {
     "duration": 0.037395,
     "end_time": "2023-06-08T04:59:23.002201",
     "exception": false,
     "start_time": "2023-06-08T04:59:22.964806",
     "status": "completed"
    },
    "tags": []
   },
   "outputs": [],
   "source": [
    "# one hot encode Class column and drop it from the original df\n",
    "encoded_df = pd.get_dummies(df_encoded['Pclass'], prefix='Embarked')\n",
    "df_encoded = pd.concat([df_encoded, encoded_df], axis=1)\n",
    "df_encoded = df_encoded.drop('Pclass', axis=1)"
   ]
  },
  {
   "cell_type": "code",
   "execution_count": 24,
   "id": "f752cb7f",
   "metadata": {
    "execution": {
     "iopub.execute_input": "2023-06-08T04:59:23.044584Z",
     "iopub.status.busy": "2023-06-08T04:59:23.044086Z",
     "iopub.status.idle": "2023-06-08T04:59:23.055955Z",
     "shell.execute_reply": "2023-06-08T04:59:23.054371Z"
    },
    "papermill": {
     "duration": 0.036852,
     "end_time": "2023-06-08T04:59:23.059085",
     "exception": false,
     "start_time": "2023-06-08T04:59:23.022233",
     "status": "completed"
    },
    "tags": []
   },
   "outputs": [],
   "source": [
    "# one hot encode Sex column and drop it from the original df\n",
    "encoded_df = pd.get_dummies(df_encoded['Sex'], prefix='Sex')\n",
    "df_encoded = pd.concat([df_encoded, encoded_df], axis=1)\n",
    "df_encoded = df_encoded.drop('Sex', axis=1)"
   ]
  },
  {
   "cell_type": "code",
   "execution_count": 25,
   "id": "7b8aeb86",
   "metadata": {
    "execution": {
     "iopub.execute_input": "2023-06-08T04:59:23.101754Z",
     "iopub.status.busy": "2023-06-08T04:59:23.101256Z",
     "iopub.status.idle": "2023-06-08T04:59:23.109454Z",
     "shell.execute_reply": "2023-06-08T04:59:23.107836Z"
    },
    "papermill": {
     "duration": 0.033441,
     "end_time": "2023-06-08T04:59:23.112615",
     "exception": false,
     "start_time": "2023-06-08T04:59:23.079174",
     "status": "completed"
    },
    "tags": []
   },
   "outputs": [],
   "source": [
    "# Splitting the data into features and target variable\n",
    "X = df_encoded.drop('Survived', axis=1)  # Features\n",
    "y = df_encoded['Survived']  # Target variable"
   ]
  },
  {
   "cell_type": "code",
   "execution_count": 26,
   "id": "00bca36c",
   "metadata": {
    "execution": {
     "iopub.execute_input": "2023-06-08T04:59:23.155310Z",
     "iopub.status.busy": "2023-06-08T04:59:23.154836Z",
     "iopub.status.idle": "2023-06-08T04:59:24.399231Z",
     "shell.execute_reply": "2023-06-08T04:59:24.397824Z"
    },
    "papermill": {
     "duration": 1.270049,
     "end_time": "2023-06-08T04:59:24.402893",
     "exception": false,
     "start_time": "2023-06-08T04:59:23.132844",
     "status": "completed"
    },
    "tags": []
   },
   "outputs": [],
   "source": [
    "from sklearn.model_selection import train_test_split\n",
    "\n",
    "# Splitting the data into training and testing sets (80% train, 20% test)\n",
    "X_train, X_test, y_train, y_test = train_test_split(X, y, test_size=0.2, random_state=42)"
   ]
  },
  {
   "cell_type": "code",
   "execution_count": 27,
   "id": "9c225dd9",
   "metadata": {
    "execution": {
     "iopub.execute_input": "2023-06-08T04:59:24.446665Z",
     "iopub.status.busy": "2023-06-08T04:59:24.445174Z",
     "iopub.status.idle": "2023-06-08T04:59:24.459907Z",
     "shell.execute_reply": "2023-06-08T04:59:24.458419Z"
    },
    "papermill": {
     "duration": 0.039777,
     "end_time": "2023-06-08T04:59:24.463326",
     "exception": false,
     "start_time": "2023-06-08T04:59:24.423549",
     "status": "completed"
    },
    "tags": []
   },
   "outputs": [],
   "source": [
    "from sklearn.preprocessing import StandardScaler\n",
    "\n",
    "scaler = StandardScaler()\n",
    "X_train = scaler.fit_transform(X_train)\n",
    "X_test = scaler.transform(X_test)"
   ]
  },
  {
   "cell_type": "code",
   "execution_count": 28,
   "id": "81f7d808",
   "metadata": {
    "execution": {
     "iopub.execute_input": "2023-06-08T04:59:24.505634Z",
     "iopub.status.busy": "2023-06-08T04:59:24.505211Z",
     "iopub.status.idle": "2023-06-08T04:59:34.907971Z",
     "shell.execute_reply": "2023-06-08T04:59:34.906499Z"
    },
    "papermill": {
     "duration": 10.427651,
     "end_time": "2023-06-08T04:59:34.911369",
     "exception": false,
     "start_time": "2023-06-08T04:59:24.483718",
     "status": "completed"
    },
    "tags": []
   },
   "outputs": [],
   "source": [
    "import tensorflow as tf\n",
    "\n",
    "# Build the ANN model\n",
    "model = tf.keras.Sequential([\n",
    "    tf.keras.layers.Dense(32, activation='relu', input_shape=(X_train.shape[1],)),\n",
    "    tf.keras.layers.Dense(64, activation='relu'),\n",
    "    tf.keras.layers.Dense(64, activation='relu'),\n",
    "    tf.keras.layers.Dense(128, activation='relu'),\n",
    "    tf.keras.layers.Dense(128, activation='relu'),\n",
    "    tf.keras.layers.Dense(1, activation='sigmoid')\n",
    "])"
   ]
  },
  {
   "cell_type": "code",
   "execution_count": 29,
   "id": "d40c13b5",
   "metadata": {
    "execution": {
     "iopub.execute_input": "2023-06-08T04:59:34.953893Z",
     "iopub.status.busy": "2023-06-08T04:59:34.952718Z",
     "iopub.status.idle": "2023-06-08T04:59:34.975135Z",
     "shell.execute_reply": "2023-06-08T04:59:34.973666Z"
    },
    "papermill": {
     "duration": 0.046966,
     "end_time": "2023-06-08T04:59:34.978218",
     "exception": false,
     "start_time": "2023-06-08T04:59:34.931252",
     "status": "completed"
    },
    "tags": []
   },
   "outputs": [],
   "source": [
    "# Compile the model\n",
    "model.compile(optimizer='adam', loss='binary_crossentropy', metrics=['accuracy'])"
   ]
  },
  {
   "cell_type": "code",
   "execution_count": 30,
   "id": "40add9af",
   "metadata": {
    "execution": {
     "iopub.execute_input": "2023-06-08T04:59:35.020302Z",
     "iopub.status.busy": "2023-06-08T04:59:35.019813Z",
     "iopub.status.idle": "2023-06-08T04:59:39.291327Z",
     "shell.execute_reply": "2023-06-08T04:59:39.289885Z"
    },
    "papermill": {
     "duration": 4.296489,
     "end_time": "2023-06-08T04:59:39.294575",
     "exception": false,
     "start_time": "2023-06-08T04:59:34.998086",
     "status": "completed"
    },
    "tags": []
   },
   "outputs": [
    {
     "name": "stdout",
     "output_type": "stream",
     "text": [
      "Epoch 1/20\n",
      "23/23 [==============================] - 2s 16ms/step - loss: 0.5899 - accuracy: 0.7121 - val_loss: 0.4684 - val_accuracy: 0.7989\n",
      "Epoch 2/20\n",
      "23/23 [==============================] - 0s 4ms/step - loss: 0.4380 - accuracy: 0.8006 - val_loss: 0.4309 - val_accuracy: 0.8212\n",
      "Epoch 3/20\n",
      "23/23 [==============================] - 0s 5ms/step - loss: 0.4137 - accuracy: 0.8272 - val_loss: 0.4276 - val_accuracy: 0.8212\n",
      "Epoch 4/20\n",
      "23/23 [==============================] - 0s 4ms/step - loss: 0.4020 - accuracy: 0.8371 - val_loss: 0.4321 - val_accuracy: 0.8212\n",
      "Epoch 5/20\n",
      "23/23 [==============================] - 0s 4ms/step - loss: 0.3955 - accuracy: 0.8385 - val_loss: 0.4259 - val_accuracy: 0.8156\n",
      "Epoch 6/20\n",
      "23/23 [==============================] - 0s 4ms/step - loss: 0.3907 - accuracy: 0.8287 - val_loss: 0.4254 - val_accuracy: 0.8101\n",
      "Epoch 7/20\n",
      "23/23 [==============================] - 0s 5ms/step - loss: 0.3772 - accuracy: 0.8511 - val_loss: 0.4230 - val_accuracy: 0.8212\n",
      "Epoch 8/20\n",
      "23/23 [==============================] - 0s 5ms/step - loss: 0.3757 - accuracy: 0.8581 - val_loss: 0.4241 - val_accuracy: 0.8212\n",
      "Epoch 9/20\n",
      "23/23 [==============================] - 0s 5ms/step - loss: 0.3682 - accuracy: 0.8511 - val_loss: 0.4225 - val_accuracy: 0.8212\n",
      "Epoch 10/20\n",
      "23/23 [==============================] - 0s 5ms/step - loss: 0.3695 - accuracy: 0.8539 - val_loss: 0.4175 - val_accuracy: 0.8268\n",
      "Epoch 11/20\n",
      "23/23 [==============================] - 0s 4ms/step - loss: 0.3664 - accuracy: 0.8441 - val_loss: 0.4283 - val_accuracy: 0.8156\n",
      "Epoch 12/20\n",
      "23/23 [==============================] - 0s 5ms/step - loss: 0.3627 - accuracy: 0.8497 - val_loss: 0.4336 - val_accuracy: 0.8380\n",
      "Epoch 13/20\n",
      "23/23 [==============================] - 0s 5ms/step - loss: 0.3602 - accuracy: 0.8511 - val_loss: 0.4248 - val_accuracy: 0.8212\n",
      "Epoch 14/20\n",
      "23/23 [==============================] - 0s 4ms/step - loss: 0.3610 - accuracy: 0.8483 - val_loss: 0.4507 - val_accuracy: 0.8045\n",
      "Epoch 15/20\n",
      "23/23 [==============================] - 0s 5ms/step - loss: 0.3523 - accuracy: 0.8539 - val_loss: 0.4255 - val_accuracy: 0.8268\n",
      "Epoch 16/20\n",
      "23/23 [==============================] - 0s 4ms/step - loss: 0.3600 - accuracy: 0.8596 - val_loss: 0.4359 - val_accuracy: 0.8045\n",
      "Epoch 17/20\n",
      "23/23 [==============================] - 0s 5ms/step - loss: 0.3497 - accuracy: 0.8483 - val_loss: 0.4357 - val_accuracy: 0.8156\n",
      "Epoch 18/20\n",
      "23/23 [==============================] - 0s 4ms/step - loss: 0.3509 - accuracy: 0.8525 - val_loss: 0.4255 - val_accuracy: 0.8212\n",
      "Epoch 19/20\n",
      "23/23 [==============================] - 0s 5ms/step - loss: 0.3441 - accuracy: 0.8567 - val_loss: 0.4556 - val_accuracy: 0.7877\n",
      "Epoch 20/20\n",
      "23/23 [==============================] - 0s 4ms/step - loss: 0.3470 - accuracy: 0.8497 - val_loss: 0.4294 - val_accuracy: 0.8324\n"
     ]
    },
    {
     "data": {
      "text/plain": [
       "<keras.callbacks.History at 0x7b6e9f3b77d0>"
      ]
     },
     "execution_count": 30,
     "metadata": {},
     "output_type": "execute_result"
    }
   ],
   "source": [
    "# Train the model\n",
    "model.fit(X_train, y_train, epochs=20, batch_size=32, validation_data=(X_test, y_test))"
   ]
  },
  {
   "cell_type": "code",
   "execution_count": 31,
   "id": "e6e37504",
   "metadata": {
    "execution": {
     "iopub.execute_input": "2023-06-08T04:59:39.354119Z",
     "iopub.status.busy": "2023-06-08T04:59:39.353625Z",
     "iopub.status.idle": "2023-06-08T04:59:39.369479Z",
     "shell.execute_reply": "2023-06-08T04:59:39.367843Z"
    },
    "papermill": {
     "duration": 0.049712,
     "end_time": "2023-06-08T04:59:39.372900",
     "exception": false,
     "start_time": "2023-06-08T04:59:39.323188",
     "status": "completed"
    },
    "tags": []
   },
   "outputs": [],
   "source": [
    "# predict the test data with new model\n",
    "test_df = pd.read_csv('/kaggle/input/titanic/test.csv')"
   ]
  },
  {
   "cell_type": "code",
   "execution_count": 32,
   "id": "61eeba25",
   "metadata": {
    "execution": {
     "iopub.execute_input": "2023-06-08T04:59:39.430373Z",
     "iopub.status.busy": "2023-06-08T04:59:39.429896Z",
     "iopub.status.idle": "2023-06-08T04:59:39.450819Z",
     "shell.execute_reply": "2023-06-08T04:59:39.449306Z"
    },
    "papermill": {
     "duration": 0.052744,
     "end_time": "2023-06-08T04:59:39.453630",
     "exception": false,
     "start_time": "2023-06-08T04:59:39.400886",
     "status": "completed"
    },
    "tags": []
   },
   "outputs": [
    {
     "data": {
      "text/html": [
       "<div>\n",
       "<style scoped>\n",
       "    .dataframe tbody tr th:only-of-type {\n",
       "        vertical-align: middle;\n",
       "    }\n",
       "\n",
       "    .dataframe tbody tr th {\n",
       "        vertical-align: top;\n",
       "    }\n",
       "\n",
       "    .dataframe thead th {\n",
       "        text-align: right;\n",
       "    }\n",
       "</style>\n",
       "<table border=\"1\" class=\"dataframe\">\n",
       "  <thead>\n",
       "    <tr style=\"text-align: right;\">\n",
       "      <th></th>\n",
       "      <th>PassengerId</th>\n",
       "      <th>Pclass</th>\n",
       "      <th>Name</th>\n",
       "      <th>Sex</th>\n",
       "      <th>Age</th>\n",
       "      <th>SibSp</th>\n",
       "      <th>Parch</th>\n",
       "      <th>Ticket</th>\n",
       "      <th>Fare</th>\n",
       "      <th>Cabin</th>\n",
       "      <th>Embarked</th>\n",
       "    </tr>\n",
       "  </thead>\n",
       "  <tbody>\n",
       "    <tr>\n",
       "      <th>0</th>\n",
       "      <td>892</td>\n",
       "      <td>3</td>\n",
       "      <td>Kelly, Mr. James</td>\n",
       "      <td>male</td>\n",
       "      <td>34.5</td>\n",
       "      <td>0</td>\n",
       "      <td>0</td>\n",
       "      <td>330911</td>\n",
       "      <td>7.8292</td>\n",
       "      <td>NaN</td>\n",
       "      <td>Q</td>\n",
       "    </tr>\n",
       "    <tr>\n",
       "      <th>1</th>\n",
       "      <td>893</td>\n",
       "      <td>3</td>\n",
       "      <td>Wilkes, Mrs. James (Ellen Needs)</td>\n",
       "      <td>female</td>\n",
       "      <td>47.0</td>\n",
       "      <td>1</td>\n",
       "      <td>0</td>\n",
       "      <td>363272</td>\n",
       "      <td>7.0000</td>\n",
       "      <td>NaN</td>\n",
       "      <td>S</td>\n",
       "    </tr>\n",
       "    <tr>\n",
       "      <th>2</th>\n",
       "      <td>894</td>\n",
       "      <td>2</td>\n",
       "      <td>Myles, Mr. Thomas Francis</td>\n",
       "      <td>male</td>\n",
       "      <td>62.0</td>\n",
       "      <td>0</td>\n",
       "      <td>0</td>\n",
       "      <td>240276</td>\n",
       "      <td>9.6875</td>\n",
       "      <td>NaN</td>\n",
       "      <td>Q</td>\n",
       "    </tr>\n",
       "    <tr>\n",
       "      <th>3</th>\n",
       "      <td>895</td>\n",
       "      <td>3</td>\n",
       "      <td>Wirz, Mr. Albert</td>\n",
       "      <td>male</td>\n",
       "      <td>27.0</td>\n",
       "      <td>0</td>\n",
       "      <td>0</td>\n",
       "      <td>315154</td>\n",
       "      <td>8.6625</td>\n",
       "      <td>NaN</td>\n",
       "      <td>S</td>\n",
       "    </tr>\n",
       "    <tr>\n",
       "      <th>4</th>\n",
       "      <td>896</td>\n",
       "      <td>3</td>\n",
       "      <td>Hirvonen, Mrs. Alexander (Helga E Lindqvist)</td>\n",
       "      <td>female</td>\n",
       "      <td>22.0</td>\n",
       "      <td>1</td>\n",
       "      <td>1</td>\n",
       "      <td>3101298</td>\n",
       "      <td>12.2875</td>\n",
       "      <td>NaN</td>\n",
       "      <td>S</td>\n",
       "    </tr>\n",
       "  </tbody>\n",
       "</table>\n",
       "</div>"
      ],
      "text/plain": [
       "   PassengerId  Pclass                                          Name     Sex  \\\n",
       "0          892       3                              Kelly, Mr. James    male   \n",
       "1          893       3              Wilkes, Mrs. James (Ellen Needs)  female   \n",
       "2          894       2                     Myles, Mr. Thomas Francis    male   \n",
       "3          895       3                              Wirz, Mr. Albert    male   \n",
       "4          896       3  Hirvonen, Mrs. Alexander (Helga E Lindqvist)  female   \n",
       "\n",
       "    Age  SibSp  Parch   Ticket     Fare Cabin Embarked  \n",
       "0  34.5      0      0   330911   7.8292   NaN        Q  \n",
       "1  47.0      1      0   363272   7.0000   NaN        S  \n",
       "2  62.0      0      0   240276   9.6875   NaN        Q  \n",
       "3  27.0      0      0   315154   8.6625   NaN        S  \n",
       "4  22.0      1      1  3101298  12.2875   NaN        S  "
      ]
     },
     "execution_count": 32,
     "metadata": {},
     "output_type": "execute_result"
    }
   ],
   "source": [
    "test_df.head()"
   ]
  },
  {
   "cell_type": "code",
   "execution_count": 33,
   "id": "5256a6b0",
   "metadata": {
    "execution": {
     "iopub.execute_input": "2023-06-08T04:59:39.513297Z",
     "iopub.status.busy": "2023-06-08T04:59:39.512761Z",
     "iopub.status.idle": "2023-06-08T04:59:39.547871Z",
     "shell.execute_reply": "2023-06-08T04:59:39.546506Z"
    },
    "papermill": {
     "duration": 0.068955,
     "end_time": "2023-06-08T04:59:39.551529",
     "exception": false,
     "start_time": "2023-06-08T04:59:39.482574",
     "status": "completed"
    },
    "tags": []
   },
   "outputs": [],
   "source": [
    "# applying the same pre-processing steps\n",
    "# impute age with median\n",
    "test_df['Age'].fillna(test_df['Age'].median(),inplace=True)\n",
    "\n",
    "# drop cabin column\n",
    "test_df.drop('Cabin',axis=1,inplace=True)\n",
    "\n",
    "# drop name column, ticket column\n",
    "test_df.drop([\"Name\",\"Ticket\"],axis=1,inplace=True)\n",
    "\n",
    "# drop PassengerId\n",
    "test_df.drop([\"PassengerId\"],axis=1,inplace=True)\n",
    "\n",
    "\n",
    "# make male = 1, female = 0\n",
    "# test_df['Sex'] = test_df['Sex'].map({'male': 1, 'female': 0})\n",
    "\n",
    "# convert age as int\n",
    "test_df['Age'] = test_df['Age'].astype(int)\n",
    "\n",
    "# fill null values with 0\n",
    "test_df['Fare'].fillna(0, inplace=True)\n",
    "\n",
    "# one hot encode Embarked column and drop it from the original df\n",
    "encoded_df = pd.get_dummies(test_df['Embarked'], prefix='Embarked')\n",
    "df_encoded = pd.concat([test_df, encoded_df], axis=1)\n",
    "df_encoded = df_encoded.drop('Embarked', axis=1)\n",
    "\n",
    "# one hot encode Class column and drop it from the original df\n",
    "encoded_df = pd.get_dummies(df_encoded['Pclass'], prefix='Embarked')\n",
    "df_encoded = pd.concat([df_encoded, encoded_df], axis=1)\n",
    "df_encoded = df_encoded.drop('Pclass', axis=1)\n",
    "\n",
    "# one hot encode Sex column and drop it from the original df\n",
    "encoded_df = pd.get_dummies(df_encoded['Sex'], prefix='Sex')\n",
    "df_encoded = pd.concat([df_encoded, encoded_df], axis=1)\n",
    "df_encoded = df_encoded.drop('Sex', axis=1)\n",
    "\n",
    "df_encoded_transformed = scaler.transform(df_encoded)"
   ]
  },
  {
   "cell_type": "code",
   "execution_count": 34,
   "id": "55c527b7",
   "metadata": {
    "execution": {
     "iopub.execute_input": "2023-06-08T04:59:39.608868Z",
     "iopub.status.busy": "2023-06-08T04:59:39.608382Z",
     "iopub.status.idle": "2023-06-08T04:59:39.618372Z",
     "shell.execute_reply": "2023-06-08T04:59:39.617292Z"
    },
    "papermill": {
     "duration": 0.042221,
     "end_time": "2023-06-08T04:59:39.621396",
     "exception": false,
     "start_time": "2023-06-08T04:59:39.579175",
     "status": "completed"
    },
    "tags": []
   },
   "outputs": [
    {
     "data": {
      "text/plain": [
       "array([[ 0.36996802, -0.47072241, -0.47934164, ...,  0.8882256 ,\n",
       "        -0.7243102 ,  0.7243102 ],\n",
       "       [ 1.36950801,  0.37992316, -0.47934164, ...,  0.8882256 ,\n",
       "         1.38062393, -1.38062393],\n",
       "       [ 2.52282338, -0.47072241, -0.47934164, ..., -1.1258401 ,\n",
       "        -0.7243102 ,  0.7243102 ],\n",
       "       ...,\n",
       "       [ 0.67751879, -0.47072241, -0.47934164, ...,  0.8882256 ,\n",
       "        -0.7243102 ,  0.7243102 ],\n",
       "       [-0.16824582, -0.47072241, -0.47934164, ...,  0.8882256 ,\n",
       "        -0.7243102 ,  0.7243102 ],\n",
       "       [-0.16824582,  0.37992316,  0.78470001, ...,  0.8882256 ,\n",
       "        -0.7243102 ,  0.7243102 ]])"
      ]
     },
     "execution_count": 34,
     "metadata": {},
     "output_type": "execute_result"
    }
   ],
   "source": [
    "df_encoded_transformed"
   ]
  },
  {
   "cell_type": "code",
   "execution_count": 35,
   "id": "40039844",
   "metadata": {
    "execution": {
     "iopub.execute_input": "2023-06-08T04:59:39.681576Z",
     "iopub.status.busy": "2023-06-08T04:59:39.680366Z",
     "iopub.status.idle": "2023-06-08T04:59:39.924367Z",
     "shell.execute_reply": "2023-06-08T04:59:39.922648Z"
    },
    "papermill": {
     "duration": 0.276903,
     "end_time": "2023-06-08T04:59:39.927623",
     "exception": false,
     "start_time": "2023-06-08T04:59:39.650720",
     "status": "completed"
    },
    "tags": []
   },
   "outputs": [
    {
     "name": "stdout",
     "output_type": "stream",
     "text": [
      "14/14 [==============================] - 0s 2ms/step\n"
     ]
    }
   ],
   "source": [
    "y_pred = model.predict(df_encoded_transformed)"
   ]
  },
  {
   "cell_type": "code",
   "execution_count": 36,
   "id": "6b419c19",
   "metadata": {
    "execution": {
     "iopub.execute_input": "2023-06-08T04:59:39.986161Z",
     "iopub.status.busy": "2023-06-08T04:59:39.985691Z",
     "iopub.status.idle": "2023-06-08T04:59:39.993408Z",
     "shell.execute_reply": "2023-06-08T04:59:39.991959Z"
    },
    "papermill": {
     "duration": 0.040443,
     "end_time": "2023-06-08T04:59:39.996272",
     "exception": false,
     "start_time": "2023-06-08T04:59:39.955829",
     "status": "completed"
    },
    "tags": []
   },
   "outputs": [
    {
     "data": {
      "text/plain": [
       "(418, 1)"
      ]
     },
     "execution_count": 36,
     "metadata": {},
     "output_type": "execute_result"
    }
   ],
   "source": [
    "y_pred.shape"
   ]
  },
  {
   "cell_type": "code",
   "execution_count": 37,
   "id": "d54df2c7",
   "metadata": {
    "execution": {
     "iopub.execute_input": "2023-06-08T04:59:40.055561Z",
     "iopub.status.busy": "2023-06-08T04:59:40.055091Z",
     "iopub.status.idle": "2023-06-08T04:59:40.061311Z",
     "shell.execute_reply": "2023-06-08T04:59:40.060119Z"
    },
    "papermill": {
     "duration": 0.039533,
     "end_time": "2023-06-08T04:59:40.064313",
     "exception": false,
     "start_time": "2023-06-08T04:59:40.024780",
     "status": "completed"
    },
    "tags": []
   },
   "outputs": [],
   "source": [
    "threshold = 0.5\n",
    "y_pred_classes = (y_pred > threshold).astype(int)"
   ]
  },
  {
   "cell_type": "code",
   "execution_count": 38,
   "id": "30ab604c",
   "metadata": {
    "execution": {
     "iopub.execute_input": "2023-06-08T04:59:40.125463Z",
     "iopub.status.busy": "2023-06-08T04:59:40.124386Z",
     "iopub.status.idle": "2023-06-08T04:59:40.133352Z",
     "shell.execute_reply": "2023-06-08T04:59:40.131673Z"
    },
    "papermill": {
     "duration": 0.042517,
     "end_time": "2023-06-08T04:59:40.136434",
     "exception": false,
     "start_time": "2023-06-08T04:59:40.093917",
     "status": "completed"
    },
    "tags": []
   },
   "outputs": [
    {
     "data": {
      "text/plain": [
       "(418, 1)"
      ]
     },
     "execution_count": 38,
     "metadata": {},
     "output_type": "execute_result"
    }
   ],
   "source": [
    "y_pred_classes.shape"
   ]
  },
  {
   "cell_type": "code",
   "execution_count": 39,
   "id": "de3fd38f",
   "metadata": {
    "execution": {
     "iopub.execute_input": "2023-06-08T04:59:40.195398Z",
     "iopub.status.busy": "2023-06-08T04:59:40.194905Z",
     "iopub.status.idle": "2023-06-08T04:59:40.205236Z",
     "shell.execute_reply": "2023-06-08T04:59:40.203903Z"
    },
    "papermill": {
     "duration": 0.043132,
     "end_time": "2023-06-08T04:59:40.208392",
     "exception": false,
     "start_time": "2023-06-08T04:59:40.165260",
     "status": "completed"
    },
    "tags": []
   },
   "outputs": [],
   "source": [
    "# predict the test data with new model\n",
    "test_df2 = pd.read_csv('/kaggle/input/titanic/test.csv')"
   ]
  },
  {
   "cell_type": "code",
   "execution_count": 40,
   "id": "803d0676",
   "metadata": {
    "execution": {
     "iopub.execute_input": "2023-06-08T04:59:40.268055Z",
     "iopub.status.busy": "2023-06-08T04:59:40.266673Z",
     "iopub.status.idle": "2023-06-08T04:59:40.272611Z",
     "shell.execute_reply": "2023-06-08T04:59:40.271552Z"
    },
    "papermill": {
     "duration": 0.038513,
     "end_time": "2023-06-08T04:59:40.275172",
     "exception": false,
     "start_time": "2023-06-08T04:59:40.236659",
     "status": "completed"
    },
    "tags": []
   },
   "outputs": [],
   "source": [
    "final_df = pd.DataFrame()"
   ]
  },
  {
   "cell_type": "code",
   "execution_count": 41,
   "id": "fc3dd3e9",
   "metadata": {
    "execution": {
     "iopub.execute_input": "2023-06-08T04:59:40.337114Z",
     "iopub.status.busy": "2023-06-08T04:59:40.336384Z",
     "iopub.status.idle": "2023-06-08T04:59:40.343755Z",
     "shell.execute_reply": "2023-06-08T04:59:40.342264Z"
    },
    "papermill": {
     "duration": 0.042608,
     "end_time": "2023-06-08T04:59:40.347380",
     "exception": false,
     "start_time": "2023-06-08T04:59:40.304772",
     "status": "completed"
    },
    "tags": []
   },
   "outputs": [],
   "source": [
    "final_df['PassengerId'] = test_df2.PassengerId\n",
    "final_df['Survived'] = y_pred_classes"
   ]
  },
  {
   "cell_type": "code",
   "execution_count": 42,
   "id": "fe648512",
   "metadata": {
    "execution": {
     "iopub.execute_input": "2023-06-08T04:59:40.408836Z",
     "iopub.status.busy": "2023-06-08T04:59:40.408344Z",
     "iopub.status.idle": "2023-06-08T04:59:40.424275Z",
     "shell.execute_reply": "2023-06-08T04:59:40.423146Z"
    },
    "papermill": {
     "duration": 0.05121,
     "end_time": "2023-06-08T04:59:40.427022",
     "exception": false,
     "start_time": "2023-06-08T04:59:40.375812",
     "status": "completed"
    },
    "tags": []
   },
   "outputs": [
    {
     "data": {
      "text/html": [
       "<div>\n",
       "<style scoped>\n",
       "    .dataframe tbody tr th:only-of-type {\n",
       "        vertical-align: middle;\n",
       "    }\n",
       "\n",
       "    .dataframe tbody tr th {\n",
       "        vertical-align: top;\n",
       "    }\n",
       "\n",
       "    .dataframe thead th {\n",
       "        text-align: right;\n",
       "    }\n",
       "</style>\n",
       "<table border=\"1\" class=\"dataframe\">\n",
       "  <thead>\n",
       "    <tr style=\"text-align: right;\">\n",
       "      <th></th>\n",
       "      <th>PassengerId</th>\n",
       "      <th>Survived</th>\n",
       "    </tr>\n",
       "  </thead>\n",
       "  <tbody>\n",
       "    <tr>\n",
       "      <th>0</th>\n",
       "      <td>892</td>\n",
       "      <td>0</td>\n",
       "    </tr>\n",
       "    <tr>\n",
       "      <th>1</th>\n",
       "      <td>893</td>\n",
       "      <td>0</td>\n",
       "    </tr>\n",
       "    <tr>\n",
       "      <th>2</th>\n",
       "      <td>894</td>\n",
       "      <td>0</td>\n",
       "    </tr>\n",
       "    <tr>\n",
       "      <th>3</th>\n",
       "      <td>895</td>\n",
       "      <td>0</td>\n",
       "    </tr>\n",
       "    <tr>\n",
       "      <th>4</th>\n",
       "      <td>896</td>\n",
       "      <td>0</td>\n",
       "    </tr>\n",
       "    <tr>\n",
       "      <th>...</th>\n",
       "      <td>...</td>\n",
       "      <td>...</td>\n",
       "    </tr>\n",
       "    <tr>\n",
       "      <th>413</th>\n",
       "      <td>1305</td>\n",
       "      <td>0</td>\n",
       "    </tr>\n",
       "    <tr>\n",
       "      <th>414</th>\n",
       "      <td>1306</td>\n",
       "      <td>1</td>\n",
       "    </tr>\n",
       "    <tr>\n",
       "      <th>415</th>\n",
       "      <td>1307</td>\n",
       "      <td>0</td>\n",
       "    </tr>\n",
       "    <tr>\n",
       "      <th>416</th>\n",
       "      <td>1308</td>\n",
       "      <td>0</td>\n",
       "    </tr>\n",
       "    <tr>\n",
       "      <th>417</th>\n",
       "      <td>1309</td>\n",
       "      <td>0</td>\n",
       "    </tr>\n",
       "  </tbody>\n",
       "</table>\n",
       "<p>418 rows × 2 columns</p>\n",
       "</div>"
      ],
      "text/plain": [
       "     PassengerId  Survived\n",
       "0            892         0\n",
       "1            893         0\n",
       "2            894         0\n",
       "3            895         0\n",
       "4            896         0\n",
       "..           ...       ...\n",
       "413         1305         0\n",
       "414         1306         1\n",
       "415         1307         0\n",
       "416         1308         0\n",
       "417         1309         0\n",
       "\n",
       "[418 rows x 2 columns]"
      ]
     },
     "execution_count": 42,
     "metadata": {},
     "output_type": "execute_result"
    }
   ],
   "source": [
    "final_df"
   ]
  },
  {
   "cell_type": "code",
   "execution_count": 43,
   "id": "66487b11",
   "metadata": {
    "execution": {
     "iopub.execute_input": "2023-06-08T04:59:40.487466Z",
     "iopub.status.busy": "2023-06-08T04:59:40.486258Z",
     "iopub.status.idle": "2023-06-08T04:59:40.498352Z",
     "shell.execute_reply": "2023-06-08T04:59:40.497140Z"
    },
    "papermill": {
     "duration": 0.04548,
     "end_time": "2023-06-08T04:59:40.501479",
     "exception": false,
     "start_time": "2023-06-08T04:59:40.455999",
     "status": "completed"
    },
    "tags": []
   },
   "outputs": [],
   "source": [
    "# write to csv file\n",
    "final_df.to_csv('submission.csv', index=False)"
   ]
  },
  {
   "cell_type": "code",
   "execution_count": 44,
   "id": "925784c0",
   "metadata": {
    "execution": {
     "iopub.execute_input": "2023-06-08T04:59:40.563139Z",
     "iopub.status.busy": "2023-06-08T04:59:40.562569Z",
     "iopub.status.idle": "2023-06-08T04:59:40.693361Z",
     "shell.execute_reply": "2023-06-08T04:59:40.691715Z"
    },
    "papermill": {
     "duration": 0.165423,
     "end_time": "2023-06-08T04:59:40.696650",
     "exception": false,
     "start_time": "2023-06-08T04:59:40.531227",
     "status": "completed"
    },
    "tags": []
   },
   "outputs": [
    {
     "name": "stdout",
     "output_type": "stream",
     "text": [
      "Accuracy: 0.7988826815642458\n"
     ]
    }
   ],
   "source": [
    "from sklearn.linear_model import LogisticRegression\n",
    "from sklearn.metrics import accuracy_score\n",
    "\n",
    "\n",
    "# Create a logistic regression model\n",
    "model = LogisticRegression()\n",
    "\n",
    "# Train the model\n",
    "model.fit(X_train, y_train)\n",
    "\n",
    "# Predict on the test set\n",
    "y_pred = model.predict(X_test)\n",
    "\n",
    "# Calculate accuracy on the test set\n",
    "accuracy = accuracy_score(y_test, y_pred)\n",
    "print(\"Accuracy:\", accuracy)"
   ]
  },
  {
   "cell_type": "code",
   "execution_count": 45,
   "id": "406ecdb4",
   "metadata": {
    "execution": {
     "iopub.execute_input": "2023-06-08T04:59:40.755927Z",
     "iopub.status.busy": "2023-06-08T04:59:40.755484Z",
     "iopub.status.idle": "2023-06-08T04:59:40.765382Z",
     "shell.execute_reply": "2023-06-08T04:59:40.763928Z"
    },
    "papermill": {
     "duration": 0.042883,
     "end_time": "2023-06-08T04:59:40.768254",
     "exception": false,
     "start_time": "2023-06-08T04:59:40.725371",
     "status": "completed"
    },
    "tags": []
   },
   "outputs": [
    {
     "data": {
      "text/plain": [
       "array([0, 0, 0, 1, 1, 1, 1, 0, 1, 1, 0, 0, 0, 0, 0, 1, 0, 1, 0, 0, 0, 0,\n",
       "       1, 0, 0, 0, 0, 0, 0, 1, 0, 1, 1, 1, 0, 0, 0, 1, 1, 0, 0, 0, 0, 0,\n",
       "       1, 0, 0, 0, 0, 0, 1, 1, 0, 0, 0, 1, 0, 1, 1, 1, 0, 1, 1, 0, 0, 1,\n",
       "       0, 0, 0, 1, 1, 1, 1, 1, 0, 0, 1, 1, 1, 0, 0, 1, 1, 0, 0, 0, 1, 1,\n",
       "       0, 0, 0, 0, 0, 0, 0, 0, 0, 0, 1, 0, 0, 0, 1, 0, 0, 0, 1, 0, 0, 0,\n",
       "       1, 0, 1, 0, 1, 0, 0, 0, 1, 0, 0, 1, 1, 0, 0, 0, 1, 1, 1, 0, 1, 0,\n",
       "       0, 1, 0, 1, 1, 0, 0, 1, 0, 1, 0, 0, 0, 1, 0, 0, 1, 0, 0, 0, 0, 1,\n",
       "       0, 0, 0, 1, 1, 1, 0, 0, 0, 1, 0, 0, 0, 1, 0, 0, 1, 1, 0, 1, 0, 0,\n",
       "       0, 1, 1])"
      ]
     },
     "execution_count": 45,
     "metadata": {},
     "output_type": "execute_result"
    }
   ],
   "source": [
    "y_pred"
   ]
  },
  {
   "cell_type": "code",
   "execution_count": 46,
   "id": "deda112a",
   "metadata": {
    "execution": {
     "iopub.execute_input": "2023-06-08T04:59:40.828418Z",
     "iopub.status.busy": "2023-06-08T04:59:40.827918Z",
     "iopub.status.idle": "2023-06-08T04:59:41.103513Z",
     "shell.execute_reply": "2023-06-08T04:59:41.101941Z"
    },
    "papermill": {
     "duration": 0.309457,
     "end_time": "2023-06-08T04:59:41.106968",
     "exception": false,
     "start_time": "2023-06-08T04:59:40.797511",
     "status": "completed"
    },
    "tags": []
   },
   "outputs": [
    {
     "data": {
      "image/png": "[encoded data removed]",
      "text/plain": [
       "<Figure size 640x480 with 1 Axes>"
      ]
     },
     "metadata": {},
     "output_type": "display_data"
    }
   ],
   "source": [
    "from sklearn.metrics import roc_curve, roc_auc_score\n",
    "import matplotlib.pyplot as plt\n",
    "\n",
    "# Predict probabilities for the positive class\n",
    "y_pred_probs = model.predict_proba(X_test)[:, 1]\n",
    "\n",
    "# Calculate the ROC curve\n",
    "fpr, tpr, thresholds = roc_curve(y_test, y_pred_probs)\n",
    "\n",
    "# Calculate the AUC score\n",
    "auc_score = roc_auc_score(y_test, y_pred_probs)\n",
    "\n",
    "# Plot the ROC curve\n",
    "plt.plot(fpr, tpr, label='ROC curve (AUC = {:.2f})'.format(auc_score))\n",
    "plt.plot([0, 1], [0, 1], linestyle='--', color='gray', label='Random')\n",
    "plt.xlabel('False Positive Rate')\n",
    "plt.ylabel('True Positive Rate')\n",
    "plt.title('Receiver Operating Characteristic (ROC) Curve')\n",
    "plt.legend()\n",
    "plt.show()"
   ]
  },
  {
   "cell_type": "code",
   "execution_count": 47,
   "id": "564d7f19",
   "metadata": {
    "execution": {
     "iopub.execute_input": "2023-06-08T04:59:41.169328Z",
     "iopub.status.busy": "2023-06-08T04:59:41.168883Z",
     "iopub.status.idle": "2023-06-08T04:59:41.179214Z",
     "shell.execute_reply": "2023-06-08T04:59:41.177753Z"
    },
    "papermill": {
     "duration": 0.045108,
     "end_time": "2023-06-08T04:59:41.182184",
     "exception": false,
     "start_time": "2023-06-08T04:59:41.137076",
     "status": "completed"
    },
    "tags": []
   },
   "outputs": [
    {
     "data": {
      "text/plain": [
       "array([0, 0, 0, 0, 1, 0, 1, 0, 1, 0, 0, 0, 1, 0, 1, 1, 0, 0, 1, 1, 0, 0,\n",
       "       1, 1, 1, 0, 1, 0, 0, 0, 0, 0, 0, 0, 0, 0, 1, 1, 0, 0, 0, 0, 0, 1,\n",
       "       1, 0, 0, 0, 1, 0, 0, 0, 1, 1, 0, 0, 0, 0, 0, 1, 0, 0, 0, 1, 1, 1,\n",
       "       1, 0, 1, 1, 1, 0, 1, 1, 1, 1, 0, 1, 0, 1, 0, 0, 0, 0, 0, 0, 1, 1,\n",
       "       1, 0, 1, 0, 1, 0, 1, 0, 1, 0, 1, 0, 1, 0, 0, 0, 1, 0, 0, 0, 0, 0,\n",
       "       0, 1, 1, 1, 1, 0, 0, 1, 1, 1, 1, 0, 1, 0, 0, 1, 0, 1, 0, 0, 0, 0,\n",
       "       1, 0, 0, 0, 0, 0, 1, 0, 0, 1, 0, 0, 0, 0, 0, 0, 0, 0, 1, 0, 0, 0,\n",
       "       0, 0, 1, 1, 0, 1, 1, 0, 1, 0, 0, 1, 0, 0, 1, 1, 0, 0, 0, 0, 0, 1,\n",
       "       1, 0, 1, 1, 0, 0, 1, 0, 1, 0, 1, 0, 0, 0, 0, 0, 0, 0, 0, 0, 1, 1,\n",
       "       0, 1, 1, 0, 0, 1, 0, 1, 1, 0, 1, 0, 0, 0, 0, 1, 0, 0, 1, 0, 1, 0,\n",
       "       1, 0, 1, 0, 1, 1, 0, 1, 0, 0, 0, 1, 0, 0, 0, 0, 0, 0, 1, 1, 1, 1,\n",
       "       0, 0, 0, 0, 1, 0, 1, 1, 1, 0, 1, 0, 0, 0, 0, 0, 1, 0, 0, 0, 1, 1,\n",
       "       0, 0, 0, 0, 1, 0, 0, 0, 1, 1, 0, 1, 0, 0, 0, 0, 1, 0, 1, 1, 1, 0,\n",
       "       0, 0, 0, 0, 0, 1, 0, 0, 0, 0, 1, 0, 0, 0, 0, 0, 0, 0, 1, 1, 0, 0,\n",
       "       0, 0, 0, 0, 0, 1, 1, 1, 0, 0, 0, 0, 0, 0, 0, 0, 1, 0, 1, 0, 0, 0,\n",
       "       1, 0, 0, 1, 0, 0, 0, 0, 0, 0, 0, 0, 0, 1, 0, 1, 0, 1, 0, 1, 1, 0,\n",
       "       0, 0, 1, 0, 1, 0, 0, 1, 0, 1, 1, 0, 1, 0, 0, 1, 1, 0, 0, 1, 0, 0,\n",
       "       1, 1, 1, 0, 0, 0, 0, 0, 1, 1, 0, 1, 0, 0, 0, 0, 0, 1, 0, 0, 0, 1,\n",
       "       0, 1, 0, 0, 1, 0, 1, 1, 0, 0, 0, 0, 1, 1, 1, 1, 1, 0, 1, 0, 0, 0])"
      ]
     },
     "execution_count": 47,
     "metadata": {},
     "output_type": "execute_result"
    }
   ],
   "source": [
    "# Predict on the unseen test set\n",
    "y_pred = model.predict(df_encoded_transformed)\n",
    "y_pred"
   ]
  },
  {
   "cell_type": "code",
   "execution_count": 48,
   "id": "58bb0735",
   "metadata": {
    "execution": {
     "iopub.execute_input": "2023-06-08T04:59:41.245328Z",
     "iopub.status.busy": "2023-06-08T04:59:41.243808Z",
     "iopub.status.idle": "2023-06-08T04:59:41.250596Z",
     "shell.execute_reply": "2023-06-08T04:59:41.249575Z"
    },
    "papermill": {
     "duration": 0.040967,
     "end_time": "2023-06-08T04:59:41.253487",
     "exception": false,
     "start_time": "2023-06-08T04:59:41.212520",
     "status": "completed"
    },
    "tags": []
   },
   "outputs": [],
   "source": [
    "final_df['PassengerId'] = test_df2.PassengerId\n",
    "final_df['Survived'] = y_pred"
   ]
  },
  {
   "cell_type": "code",
   "execution_count": 49,
   "id": "927a496d",
   "metadata": {
    "execution": {
     "iopub.execute_input": "2023-06-08T04:59:41.315936Z",
     "iopub.status.busy": "2023-06-08T04:59:41.315433Z",
     "iopub.status.idle": "2023-06-08T04:59:41.333273Z",
     "shell.execute_reply": "2023-06-08T04:59:41.331733Z"
    },
    "papermill": {
     "duration": 0.051888,
     "end_time": "2023-06-08T04:59:41.335996",
     "exception": false,
     "start_time": "2023-06-08T04:59:41.284108",
     "status": "completed"
    },
    "tags": []
   },
   "outputs": [
    {
     "data": {
      "text/html": [
       "<div>\n",
       "<style scoped>\n",
       "    .dataframe tbody tr th:only-of-type {\n",
       "        vertical-align: middle;\n",
       "    }\n",
       "\n",
       "    .dataframe tbody tr th {\n",
       "        vertical-align: top;\n",
       "    }\n",
       "\n",
       "    .dataframe thead th {\n",
       "        text-align: right;\n",
       "    }\n",
       "</style>\n",
       "<table border=\"1\" class=\"dataframe\">\n",
       "  <thead>\n",
       "    <tr style=\"text-align: right;\">\n",
       "      <th></th>\n",
       "      <th>PassengerId</th>\n",
       "      <th>Survived</th>\n",
       "    </tr>\n",
       "  </thead>\n",
       "  <tbody>\n",
       "    <tr>\n",
       "      <th>0</th>\n",
       "      <td>892</td>\n",
       "      <td>0</td>\n",
       "    </tr>\n",
       "    <tr>\n",
       "      <th>1</th>\n",
       "      <td>893</td>\n",
       "      <td>0</td>\n",
       "    </tr>\n",
       "    <tr>\n",
       "      <th>2</th>\n",
       "      <td>894</td>\n",
       "      <td>0</td>\n",
       "    </tr>\n",
       "    <tr>\n",
       "      <th>3</th>\n",
       "      <td>895</td>\n",
       "      <td>0</td>\n",
       "    </tr>\n",
       "    <tr>\n",
       "      <th>4</th>\n",
       "      <td>896</td>\n",
       "      <td>1</td>\n",
       "    </tr>\n",
       "    <tr>\n",
       "      <th>...</th>\n",
       "      <td>...</td>\n",
       "      <td>...</td>\n",
       "    </tr>\n",
       "    <tr>\n",
       "      <th>413</th>\n",
       "      <td>1305</td>\n",
       "      <td>0</td>\n",
       "    </tr>\n",
       "    <tr>\n",
       "      <th>414</th>\n",
       "      <td>1306</td>\n",
       "      <td>1</td>\n",
       "    </tr>\n",
       "    <tr>\n",
       "      <th>415</th>\n",
       "      <td>1307</td>\n",
       "      <td>0</td>\n",
       "    </tr>\n",
       "    <tr>\n",
       "      <th>416</th>\n",
       "      <td>1308</td>\n",
       "      <td>0</td>\n",
       "    </tr>\n",
       "    <tr>\n",
       "      <th>417</th>\n",
       "      <td>1309</td>\n",
       "      <td>0</td>\n",
       "    </tr>\n",
       "  </tbody>\n",
       "</table>\n",
       "<p>418 rows × 2 columns</p>\n",
       "</div>"
      ],
      "text/plain": [
       "     PassengerId  Survived\n",
       "0            892         0\n",
       "1            893         0\n",
       "2            894         0\n",
       "3            895         0\n",
       "4            896         1\n",
       "..           ...       ...\n",
       "413         1305         0\n",
       "414         1306         1\n",
       "415         1307         0\n",
       "416         1308         0\n",
       "417         1309         0\n",
       "\n",
       "[418 rows x 2 columns]"
      ]
     },
     "execution_count": 49,
     "metadata": {},
     "output_type": "execute_result"
    }
   ],
   "source": [
    "final_df"
   ]
  },
  {
   "cell_type": "code",
   "execution_count": 50,
   "id": "92e72025",
   "metadata": {
    "execution": {
     "iopub.execute_input": "2023-06-08T04:59:41.399875Z",
     "iopub.status.busy": "2023-06-08T04:59:41.398529Z",
     "iopub.status.idle": "2023-06-08T04:59:41.407316Z",
     "shell.execute_reply": "2023-06-08T04:59:41.405668Z"
    },
    "papermill": {
     "duration": 0.044053,
     "end_time": "2023-06-08T04:59:41.410262",
     "exception": false,
     "start_time": "2023-06-08T04:59:41.366209",
     "status": "completed"
    },
    "tags": []
   },
   "outputs": [],
   "source": [
    "# write to csv file\n",
    "final_df.to_csv('submission.csv', index=False)"
   ]
  },
  {
   "cell_type": "code",
   "execution_count": null,
   "id": "ca910f0d",
   "metadata": {
    "papermill": {
     "duration": 0.030205,
     "end_time": "2023-06-08T04:59:41.470262",
     "exception": false,
     "start_time": "2023-06-08T04:59:41.440057",
     "status": "completed"
    },
    "tags": []
   },
   "outputs": [],
   "source": []
  }
 ],
 "metadata": {
  "kernelspec": {
   "display_name": "Python 3",
   "language": "python",
   "name": "python3"
  },
  "language_info": {
   "codemirror_mode": {
    "name": "ipython",
    "version": 3
   },
   "file_extension": ".py",
   "mimetype": "text/x-python",
   "name": "python",
   "nbconvert_exporter": "python",
   "pygments_lexer": "ipython3",
   "version": "3.7.12"
  },
  "papermill": {
   "default_parameters": {},
   "duration": 38.833088,
   "end_time": "2023-06-08T04:59:44.831587",
   "environment_variables": {},
   "exception": null,
   "input_path": "__notebook__.ipynb",
   "output_path": "__notebook__.ipynb",
   "parameters": {},
   "start_time": "2023-06-08T04:59:05.998499",
   "version": "2.4.0"
  }
 },
 "nbformat": 4,
 "nbformat_minor": 5
}
