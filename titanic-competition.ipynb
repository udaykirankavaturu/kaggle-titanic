{
 "cells": [
  {
   "cell_type": "code",
   "execution_count": 1,
   "id": "b3fcab5b",
   "metadata": {
    "_cell_guid": "b1076dfc-b9ad-4769-8c92-a6c4dae69d19",
    "_uuid": "8f2839f25d086af736a60e9eeb907d3b93b6e0e5",
    "execution": {
     "iopub.execute_input": "2023-06-05T23:55:29.133832Z",
     "iopub.status.busy": "2023-06-05T23:55:29.133371Z",
     "iopub.status.idle": "2023-06-05T23:55:29.150867Z",
     "shell.execute_reply": "2023-06-05T23:55:29.149587Z"
    },
    "papermill": {
     "duration": 0.03771,
     "end_time": "2023-06-05T23:55:29.156099",
     "exception": false,
     "start_time": "2023-06-05T23:55:29.118389",
     "status": "completed"
    },
    "tags": []
   },
   "outputs": [
    {
     "name": "stdout",
     "output_type": "stream",
     "text": [
      "/kaggle/input/titanic/train.csv\n",
      "/kaggle/input/titanic/test.csv\n",
      "/kaggle/input/titanic/gender_submission.csv\n"
     ]
    }
   ],
   "source": [
    "# This Python 3 environment comes with many helpful analytics libraries installed\n",
    "# It is defined by the kaggle/python Docker image: https://github.com/kaggle/docker-python\n",
    "# For example, here's several helpful packages to load\n",
    "\n",
    "import numpy as np # linear algebra\n",
    "import pandas as pd # data processing, CSV file I/O (e.g. pd.read_csv)\n",
    "\n",
    "# Input data files are available in the read-only \"../input/\" directory\n",
    "# For example, running this (by clicking run or pressing Shift+Enter) will list all files under the input directory\n",
    "\n",
    "import os\n",
    "for dirname, _, filenames in os.walk('/kaggle/input'):\n",
    "    for filename in filenames:\n",
    "        print(os.path.join(dirname, filename))\n",
    "\n",
    "# You can write up to 20GB to the current directory (/kaggle/working/) that gets preserved as output when you create a version using \"Save & Run All\" \n",
    "# You can also write temporary files to /kaggle/temp/, but they won't be saved outside of the current session"
   ]
  },
  {
   "cell_type": "code",
   "execution_count": 2,
   "id": "1a6c18ad",
   "metadata": {
    "execution": {
     "iopub.execute_input": "2023-06-05T23:55:29.182186Z",
     "iopub.status.busy": "2023-06-05T23:55:29.181748Z",
     "iopub.status.idle": "2023-06-05T23:55:29.204978Z",
     "shell.execute_reply": "2023-06-05T23:55:29.203741Z"
    },
    "papermill": {
     "duration": 0.039446,
     "end_time": "2023-06-05T23:55:29.207871",
     "exception": false,
     "start_time": "2023-06-05T23:55:29.168425",
     "status": "completed"
    },
    "tags": []
   },
   "outputs": [],
   "source": [
    "# read data\n",
    "train_data_df = pd.read_csv('/kaggle/input/titanic/train.csv')"
   ]
  },
  {
   "cell_type": "code",
   "execution_count": 3,
   "id": "cfcde454",
   "metadata": {
    "execution": {
     "iopub.execute_input": "2023-06-05T23:55:29.233941Z",
     "iopub.status.busy": "2023-06-05T23:55:29.233036Z",
     "iopub.status.idle": "2023-06-05T23:55:29.266327Z",
     "shell.execute_reply": "2023-06-05T23:55:29.265224Z"
    },
    "papermill": {
     "duration": 0.049383,
     "end_time": "2023-06-05T23:55:29.269159",
     "exception": false,
     "start_time": "2023-06-05T23:55:29.219776",
     "status": "completed"
    },
    "tags": []
   },
   "outputs": [
    {
     "data": {
      "text/html": [
       "<div>\n",
       "<style scoped>\n",
       "    .dataframe tbody tr th:only-of-type {\n",
       "        vertical-align: middle;\n",
       "    }\n",
       "\n",
       "    .dataframe tbody tr th {\n",
       "        vertical-align: top;\n",
       "    }\n",
       "\n",
       "    .dataframe thead th {\n",
       "        text-align: right;\n",
       "    }\n",
       "</style>\n",
       "<table border=\"1\" class=\"dataframe\">\n",
       "  <thead>\n",
       "    <tr style=\"text-align: right;\">\n",
       "      <th></th>\n",
       "      <th>PassengerId</th>\n",
       "      <th>Survived</th>\n",
       "      <th>Pclass</th>\n",
       "      <th>Name</th>\n",
       "      <th>Sex</th>\n",
       "      <th>Age</th>\n",
       "      <th>SibSp</th>\n",
       "      <th>Parch</th>\n",
       "      <th>Ticket</th>\n",
       "      <th>Fare</th>\n",
       "      <th>Cabin</th>\n",
       "      <th>Embarked</th>\n",
       "    </tr>\n",
       "  </thead>\n",
       "  <tbody>\n",
       "    <tr>\n",
       "      <th>0</th>\n",
       "      <td>1</td>\n",
       "      <td>0</td>\n",
       "      <td>3</td>\n",
       "      <td>Braund, Mr. Owen Harris</td>\n",
       "      <td>male</td>\n",
       "      <td>22.0</td>\n",
       "      <td>1</td>\n",
       "      <td>0</td>\n",
       "      <td>A/5 21171</td>\n",
       "      <td>7.2500</td>\n",
       "      <td>NaN</td>\n",
       "      <td>S</td>\n",
       "    </tr>\n",
       "    <tr>\n",
       "      <th>1</th>\n",
       "      <td>2</td>\n",
       "      <td>1</td>\n",
       "      <td>1</td>\n",
       "      <td>Cumings, Mrs. John Bradley (Florence Briggs Th...</td>\n",
       "      <td>female</td>\n",
       "      <td>38.0</td>\n",
       "      <td>1</td>\n",
       "      <td>0</td>\n",
       "      <td>PC 17599</td>\n",
       "      <td>71.2833</td>\n",
       "      <td>C85</td>\n",
       "      <td>C</td>\n",
       "    </tr>\n",
       "    <tr>\n",
       "      <th>2</th>\n",
       "      <td>3</td>\n",
       "      <td>1</td>\n",
       "      <td>3</td>\n",
       "      <td>Heikkinen, Miss. Laina</td>\n",
       "      <td>female</td>\n",
       "      <td>26.0</td>\n",
       "      <td>0</td>\n",
       "      <td>0</td>\n",
       "      <td>STON/O2. 3101282</td>\n",
       "      <td>7.9250</td>\n",
       "      <td>NaN</td>\n",
       "      <td>S</td>\n",
       "    </tr>\n",
       "    <tr>\n",
       "      <th>3</th>\n",
       "      <td>4</td>\n",
       "      <td>1</td>\n",
       "      <td>1</td>\n",
       "      <td>Futrelle, Mrs. Jacques Heath (Lily May Peel)</td>\n",
       "      <td>female</td>\n",
       "      <td>35.0</td>\n",
       "      <td>1</td>\n",
       "      <td>0</td>\n",
       "      <td>113803</td>\n",
       "      <td>53.1000</td>\n",
       "      <td>C123</td>\n",
       "      <td>S</td>\n",
       "    </tr>\n",
       "    <tr>\n",
       "      <th>4</th>\n",
       "      <td>5</td>\n",
       "      <td>0</td>\n",
       "      <td>3</td>\n",
       "      <td>Allen, Mr. William Henry</td>\n",
       "      <td>male</td>\n",
       "      <td>35.0</td>\n",
       "      <td>0</td>\n",
       "      <td>0</td>\n",
       "      <td>373450</td>\n",
       "      <td>8.0500</td>\n",
       "      <td>NaN</td>\n",
       "      <td>S</td>\n",
       "    </tr>\n",
       "  </tbody>\n",
       "</table>\n",
       "</div>"
      ],
      "text/plain": [
       "   PassengerId  Survived  Pclass  \\\n",
       "0            1         0       3   \n",
       "1            2         1       1   \n",
       "2            3         1       3   \n",
       "3            4         1       1   \n",
       "4            5         0       3   \n",
       "\n",
       "                                                Name     Sex   Age  SibSp  \\\n",
       "0                            Braund, Mr. Owen Harris    male  22.0      1   \n",
       "1  Cumings, Mrs. John Bradley (Florence Briggs Th...  female  38.0      1   \n",
       "2                             Heikkinen, Miss. Laina  female  26.0      0   \n",
       "3       Futrelle, Mrs. Jacques Heath (Lily May Peel)  female  35.0      1   \n",
       "4                           Allen, Mr. William Henry    male  35.0      0   \n",
       "\n",
       "   Parch            Ticket     Fare Cabin Embarked  \n",
       "0      0         A/5 21171   7.2500   NaN        S  \n",
       "1      0          PC 17599  71.2833   C85        C  \n",
       "2      0  STON/O2. 3101282   7.9250   NaN        S  \n",
       "3      0            113803  53.1000  C123        S  \n",
       "4      0            373450   8.0500   NaN        S  "
      ]
     },
     "execution_count": 3,
     "metadata": {},
     "output_type": "execute_result"
    }
   ],
   "source": [
    "# check data\n",
    "train_data_df.head()"
   ]
  },
  {
   "cell_type": "code",
   "execution_count": 4,
   "id": "9eece7b9",
   "metadata": {
    "execution": {
     "iopub.execute_input": "2023-06-05T23:55:29.295134Z",
     "iopub.status.busy": "2023-06-05T23:55:29.294717Z",
     "iopub.status.idle": "2023-06-05T23:55:29.301665Z",
     "shell.execute_reply": "2023-06-05T23:55:29.300518Z"
    },
    "papermill": {
     "duration": 0.023154,
     "end_time": "2023-06-05T23:55:29.304374",
     "exception": false,
     "start_time": "2023-06-05T23:55:29.281220",
     "status": "completed"
    },
    "tags": []
   },
   "outputs": [
    {
     "data": {
      "text/plain": [
       "(891, 12)"
      ]
     },
     "execution_count": 4,
     "metadata": {},
     "output_type": "execute_result"
    }
   ],
   "source": [
    "# check shape\n",
    "train_data_df.shape"
   ]
  },
  {
   "cell_type": "code",
   "execution_count": 5,
   "id": "0dd3ce81",
   "metadata": {
    "execution": {
     "iopub.execute_input": "2023-06-05T23:55:29.330358Z",
     "iopub.status.busy": "2023-06-05T23:55:29.329954Z",
     "iopub.status.idle": "2023-06-05T23:55:29.340839Z",
     "shell.execute_reply": "2023-06-05T23:55:29.339656Z"
    },
    "papermill": {
     "duration": 0.027141,
     "end_time": "2023-06-05T23:55:29.343573",
     "exception": false,
     "start_time": "2023-06-05T23:55:29.316432",
     "status": "completed"
    },
    "tags": []
   },
   "outputs": [
    {
     "data": {
      "text/plain": [
       "PassengerId      0\n",
       "Survived         0\n",
       "Pclass           0\n",
       "Name             0\n",
       "Sex              0\n",
       "Age            177\n",
       "SibSp            0\n",
       "Parch            0\n",
       "Ticket           0\n",
       "Fare             0\n",
       "Cabin          687\n",
       "Embarked         2\n",
       "dtype: int64"
      ]
     },
     "execution_count": 5,
     "metadata": {},
     "output_type": "execute_result"
    }
   ],
   "source": [
    "# check for null values\n",
    "train_data_df.isna().sum()"
   ]
  },
  {
   "cell_type": "code",
   "execution_count": 6,
   "id": "d21b3991",
   "metadata": {
    "execution": {
     "iopub.execute_input": "2023-06-05T23:55:29.370045Z",
     "iopub.status.busy": "2023-06-05T23:55:29.369624Z",
     "iopub.status.idle": "2023-06-05T23:55:29.379656Z",
     "shell.execute_reply": "2023-06-05T23:55:29.378421Z"
    },
    "papermill": {
     "duration": 0.026454,
     "end_time": "2023-06-05T23:55:29.382268",
     "exception": false,
     "start_time": "2023-06-05T23:55:29.355814",
     "status": "completed"
    },
    "tags": []
   },
   "outputs": [],
   "source": [
    "# impute age with median\n",
    "train_data_df['Age'].fillna(train_data_df['Age'].median(),inplace=True)"
   ]
  },
  {
   "cell_type": "code",
   "execution_count": 7,
   "id": "0d119807",
   "metadata": {
    "execution": {
     "iopub.execute_input": "2023-06-05T23:55:29.408607Z",
     "iopub.status.busy": "2023-06-05T23:55:29.408166Z",
     "iopub.status.idle": "2023-06-05T23:55:29.418590Z",
     "shell.execute_reply": "2023-06-05T23:55:29.417342Z"
    },
    "papermill": {
     "duration": 0.026566,
     "end_time": "2023-06-05T23:55:29.421111",
     "exception": false,
     "start_time": "2023-06-05T23:55:29.394545",
     "status": "completed"
    },
    "tags": []
   },
   "outputs": [
    {
     "data": {
      "text/plain": [
       "PassengerId      0\n",
       "Survived         0\n",
       "Pclass           0\n",
       "Name             0\n",
       "Sex              0\n",
       "Age              0\n",
       "SibSp            0\n",
       "Parch            0\n",
       "Ticket           0\n",
       "Fare             0\n",
       "Cabin          687\n",
       "Embarked         2\n",
       "dtype: int64"
      ]
     },
     "execution_count": 7,
     "metadata": {},
     "output_type": "execute_result"
    }
   ],
   "source": [
    "# check for null values\n",
    "train_data_df.isna().sum()"
   ]
  },
  {
   "cell_type": "code",
   "execution_count": 8,
   "id": "eefea9dd",
   "metadata": {
    "execution": {
     "iopub.execute_input": "2023-06-05T23:55:29.448570Z",
     "iopub.status.busy": "2023-06-05T23:55:29.448084Z",
     "iopub.status.idle": "2023-06-05T23:55:29.458190Z",
     "shell.execute_reply": "2023-06-05T23:55:29.457024Z"
    },
    "papermill": {
     "duration": 0.026412,
     "end_time": "2023-06-05T23:55:29.460814",
     "exception": false,
     "start_time": "2023-06-05T23:55:29.434402",
     "status": "completed"
    },
    "tags": []
   },
   "outputs": [
    {
     "data": {
      "text/plain": [
       "<bound method IndexOpsMixin.value_counts of 0       NaN\n",
       "1       C85\n",
       "2       NaN\n",
       "3      C123\n",
       "4       NaN\n",
       "       ... \n",
       "886     NaN\n",
       "887     B42\n",
       "888     NaN\n",
       "889    C148\n",
       "890     NaN\n",
       "Name: Cabin, Length: 891, dtype: object>"
      ]
     },
     "execution_count": 8,
     "metadata": {},
     "output_type": "execute_result"
    }
   ],
   "source": [
    "# check cabin\n",
    "train_data_df['Cabin'].value_counts"
   ]
  },
  {
   "cell_type": "code",
   "execution_count": 9,
   "id": "cc6716e7",
   "metadata": {
    "execution": {
     "iopub.execute_input": "2023-06-05T23:55:29.488110Z",
     "iopub.status.busy": "2023-06-05T23:55:29.487349Z",
     "iopub.status.idle": "2023-06-05T23:55:29.497666Z",
     "shell.execute_reply": "2023-06-05T23:55:29.496260Z"
    },
    "papermill": {
     "duration": 0.026911,
     "end_time": "2023-06-05T23:55:29.500290",
     "exception": false,
     "start_time": "2023-06-05T23:55:29.473379",
     "status": "completed"
    },
    "tags": []
   },
   "outputs": [],
   "source": [
    "# drop cabin column\n",
    "train_data_df.drop('Cabin',axis=1,inplace=True)"
   ]
  },
  {
   "cell_type": "code",
   "execution_count": 10,
   "id": "02b102ae",
   "metadata": {
    "execution": {
     "iopub.execute_input": "2023-06-05T23:55:29.527298Z",
     "iopub.status.busy": "2023-06-05T23:55:29.526890Z",
     "iopub.status.idle": "2023-06-05T23:55:29.535011Z",
     "shell.execute_reply": "2023-06-05T23:55:29.533972Z"
    },
    "papermill": {
     "duration": 0.024502,
     "end_time": "2023-06-05T23:55:29.537468",
     "exception": false,
     "start_time": "2023-06-05T23:55:29.512966",
     "status": "completed"
    },
    "tags": []
   },
   "outputs": [],
   "source": [
    "# drop name column, ticket column\n",
    "train_data_df.drop([\"Name\",\"Ticket\"],axis=1,inplace=True)"
   ]
  },
  {
   "cell_type": "code",
   "execution_count": 11,
   "id": "f8244120",
   "metadata": {
    "execution": {
     "iopub.execute_input": "2023-06-05T23:55:29.565117Z",
     "iopub.status.busy": "2023-06-05T23:55:29.564697Z",
     "iopub.status.idle": "2023-06-05T23:55:29.575729Z",
     "shell.execute_reply": "2023-06-05T23:55:29.574602Z"
    },
    "papermill": {
     "duration": 0.027949,
     "end_time": "2023-06-05T23:55:29.578283",
     "exception": false,
     "start_time": "2023-06-05T23:55:29.550334",
     "status": "completed"
    },
    "tags": []
   },
   "outputs": [
    {
     "data": {
      "text/plain": [
       "male      577\n",
       "female    314\n",
       "Name: Sex, dtype: int64"
      ]
     },
     "execution_count": 11,
     "metadata": {},
     "output_type": "execute_result"
    }
   ],
   "source": [
    "# check sex column\n",
    "train_data_df.Sex.value_counts()"
   ]
  },
  {
   "cell_type": "code",
   "execution_count": 12,
   "id": "82ae229e",
   "metadata": {
    "execution": {
     "iopub.execute_input": "2023-06-05T23:55:29.606166Z",
     "iopub.status.busy": "2023-06-05T23:55:29.605714Z",
     "iopub.status.idle": "2023-06-05T23:55:29.612772Z",
     "shell.execute_reply": "2023-06-05T23:55:29.611714Z"
    },
    "papermill": {
     "duration": 0.02401,
     "end_time": "2023-06-05T23:55:29.615188",
     "exception": false,
     "start_time": "2023-06-05T23:55:29.591178",
     "status": "completed"
    },
    "tags": []
   },
   "outputs": [],
   "source": [
    "# make male = 1, female = 0\n",
    "train_data_df['Sex'] = train_data_df['Sex'].map({'male': 1, 'female': 0})"
   ]
  },
  {
   "cell_type": "code",
   "execution_count": 13,
   "id": "c23127c0",
   "metadata": {
    "execution": {
     "iopub.execute_input": "2023-06-05T23:55:29.642660Z",
     "iopub.status.busy": "2023-06-05T23:55:29.642198Z",
     "iopub.status.idle": "2023-06-05T23:55:29.659283Z",
     "shell.execute_reply": "2023-06-05T23:55:29.658007Z"
    },
    "papermill": {
     "duration": 0.033938,
     "end_time": "2023-06-05T23:55:29.661927",
     "exception": false,
     "start_time": "2023-06-05T23:55:29.627989",
     "status": "completed"
    },
    "tags": []
   },
   "outputs": [
    {
     "data": {
      "text/html": [
       "<div>\n",
       "<style scoped>\n",
       "    .dataframe tbody tr th:only-of-type {\n",
       "        vertical-align: middle;\n",
       "    }\n",
       "\n",
       "    .dataframe tbody tr th {\n",
       "        vertical-align: top;\n",
       "    }\n",
       "\n",
       "    .dataframe thead th {\n",
       "        text-align: right;\n",
       "    }\n",
       "</style>\n",
       "<table border=\"1\" class=\"dataframe\">\n",
       "  <thead>\n",
       "    <tr style=\"text-align: right;\">\n",
       "      <th></th>\n",
       "      <th>PassengerId</th>\n",
       "      <th>Survived</th>\n",
       "      <th>Pclass</th>\n",
       "      <th>Sex</th>\n",
       "      <th>Age</th>\n",
       "      <th>SibSp</th>\n",
       "      <th>Parch</th>\n",
       "      <th>Fare</th>\n",
       "      <th>Embarked</th>\n",
       "    </tr>\n",
       "  </thead>\n",
       "  <tbody>\n",
       "    <tr>\n",
       "      <th>0</th>\n",
       "      <td>1</td>\n",
       "      <td>0</td>\n",
       "      <td>3</td>\n",
       "      <td>1</td>\n",
       "      <td>22.0</td>\n",
       "      <td>1</td>\n",
       "      <td>0</td>\n",
       "      <td>7.2500</td>\n",
       "      <td>S</td>\n",
       "    </tr>\n",
       "    <tr>\n",
       "      <th>1</th>\n",
       "      <td>2</td>\n",
       "      <td>1</td>\n",
       "      <td>1</td>\n",
       "      <td>0</td>\n",
       "      <td>38.0</td>\n",
       "      <td>1</td>\n",
       "      <td>0</td>\n",
       "      <td>71.2833</td>\n",
       "      <td>C</td>\n",
       "    </tr>\n",
       "    <tr>\n",
       "      <th>2</th>\n",
       "      <td>3</td>\n",
       "      <td>1</td>\n",
       "      <td>3</td>\n",
       "      <td>0</td>\n",
       "      <td>26.0</td>\n",
       "      <td>0</td>\n",
       "      <td>0</td>\n",
       "      <td>7.9250</td>\n",
       "      <td>S</td>\n",
       "    </tr>\n",
       "    <tr>\n",
       "      <th>3</th>\n",
       "      <td>4</td>\n",
       "      <td>1</td>\n",
       "      <td>1</td>\n",
       "      <td>0</td>\n",
       "      <td>35.0</td>\n",
       "      <td>1</td>\n",
       "      <td>0</td>\n",
       "      <td>53.1000</td>\n",
       "      <td>S</td>\n",
       "    </tr>\n",
       "    <tr>\n",
       "      <th>4</th>\n",
       "      <td>5</td>\n",
       "      <td>0</td>\n",
       "      <td>3</td>\n",
       "      <td>1</td>\n",
       "      <td>35.0</td>\n",
       "      <td>0</td>\n",
       "      <td>0</td>\n",
       "      <td>8.0500</td>\n",
       "      <td>S</td>\n",
       "    </tr>\n",
       "  </tbody>\n",
       "</table>\n",
       "</div>"
      ],
      "text/plain": [
       "   PassengerId  Survived  Pclass  Sex   Age  SibSp  Parch     Fare Embarked\n",
       "0            1         0       3    1  22.0      1      0   7.2500        S\n",
       "1            2         1       1    0  38.0      1      0  71.2833        C\n",
       "2            3         1       3    0  26.0      0      0   7.9250        S\n",
       "3            4         1       1    0  35.0      1      0  53.1000        S\n",
       "4            5         0       3    1  35.0      0      0   8.0500        S"
      ]
     },
     "execution_count": 13,
     "metadata": {},
     "output_type": "execute_result"
    }
   ],
   "source": [
    "# check df\n",
    "train_data_df.head()"
   ]
  },
  {
   "cell_type": "code",
   "execution_count": 14,
   "id": "fd0688cf",
   "metadata": {
    "execution": {
     "iopub.execute_input": "2023-06-05T23:55:29.690162Z",
     "iopub.status.busy": "2023-06-05T23:55:29.689712Z",
     "iopub.status.idle": "2023-06-05T23:55:29.695712Z",
     "shell.execute_reply": "2023-06-05T23:55:29.694797Z"
    },
    "papermill": {
     "duration": 0.022875,
     "end_time": "2023-06-05T23:55:29.697996",
     "exception": false,
     "start_time": "2023-06-05T23:55:29.675121",
     "status": "completed"
    },
    "tags": []
   },
   "outputs": [],
   "source": [
    "# convert age as int\n",
    "train_data_df['Age'] = train_data_df['Age'].astype(int)"
   ]
  },
  {
   "cell_type": "code",
   "execution_count": 15,
   "id": "3db28190",
   "metadata": {
    "execution": {
     "iopub.execute_input": "2023-06-05T23:55:29.725821Z",
     "iopub.status.busy": "2023-06-05T23:55:29.725358Z",
     "iopub.status.idle": "2023-06-05T23:55:29.735102Z",
     "shell.execute_reply": "2023-06-05T23:55:29.733914Z"
    },
    "papermill": {
     "duration": 0.026576,
     "end_time": "2023-06-05T23:55:29.737504",
     "exception": false,
     "start_time": "2023-06-05T23:55:29.710928",
     "status": "completed"
    },
    "tags": []
   },
   "outputs": [
    {
     "data": {
      "text/plain": [
       "S    644\n",
       "C    168\n",
       "Q     77\n",
       "Name: Embarked, dtype: int64"
      ]
     },
     "execution_count": 15,
     "metadata": {},
     "output_type": "execute_result"
    }
   ],
   "source": [
    "# check embarked column\n",
    "train_data_df.Embarked.value_counts()"
   ]
  },
  {
   "cell_type": "code",
   "execution_count": 16,
   "id": "af69bd10",
   "metadata": {
    "execution": {
     "iopub.execute_input": "2023-06-05T23:55:29.766048Z",
     "iopub.status.busy": "2023-06-05T23:55:29.765592Z",
     "iopub.status.idle": "2023-06-05T23:55:29.776759Z",
     "shell.execute_reply": "2023-06-05T23:55:29.775712Z"
    },
    "papermill": {
     "duration": 0.028886,
     "end_time": "2023-06-05T23:55:29.779597",
     "exception": false,
     "start_time": "2023-06-05T23:55:29.750711",
     "status": "completed"
    },
    "tags": []
   },
   "outputs": [],
   "source": [
    "# one hot encode Embarked column and drop it from the original df\n",
    "encoded_df = pd.get_dummies(train_data_df['Embarked'], prefix='Embarked')\n",
    "df_encoded = pd.concat([train_data_df, encoded_df], axis=1)\n",
    "df_encoded = df_encoded.drop('Embarked', axis=1)"
   ]
  },
  {
   "cell_type": "code",
   "execution_count": 17,
   "id": "81e8aa2d",
   "metadata": {
    "execution": {
     "iopub.execute_input": "2023-06-05T23:55:29.807888Z",
     "iopub.status.busy": "2023-06-05T23:55:29.807432Z",
     "iopub.status.idle": "2023-06-05T23:55:29.814157Z",
     "shell.execute_reply": "2023-06-05T23:55:29.813113Z"
    },
    "papermill": {
     "duration": 0.023812,
     "end_time": "2023-06-05T23:55:29.816626",
     "exception": false,
     "start_time": "2023-06-05T23:55:29.792814",
     "status": "completed"
    },
    "tags": []
   },
   "outputs": [],
   "source": [
    "# Splitting the data into features and target variable\n",
    "X = df_encoded.drop('Survived', axis=1)  # Features\n",
    "y = df_encoded['Survived']  # Target variable"
   ]
  },
  {
   "cell_type": "code",
   "execution_count": 18,
   "id": "ef5ddedb",
   "metadata": {
    "execution": {
     "iopub.execute_input": "2023-06-05T23:55:29.845425Z",
     "iopub.status.busy": "2023-06-05T23:55:29.844973Z",
     "iopub.status.idle": "2023-06-05T23:55:30.933291Z",
     "shell.execute_reply": "2023-06-05T23:55:30.931896Z"
    },
    "papermill": {
     "duration": 1.106247,
     "end_time": "2023-06-05T23:55:30.936448",
     "exception": false,
     "start_time": "2023-06-05T23:55:29.830201",
     "status": "completed"
    },
    "tags": []
   },
   "outputs": [],
   "source": [
    "from sklearn.model_selection import train_test_split\n",
    "\n",
    "# Splitting the data into training and testing sets (80% train, 20% test)\n",
    "X_train, X_test, y_train, y_test = train_test_split(X, y, test_size=0.2, random_state=42)"
   ]
  },
  {
   "cell_type": "code",
   "execution_count": 19,
   "id": "06bfc120",
   "metadata": {
    "execution": {
     "iopub.execute_input": "2023-06-05T23:55:30.964930Z",
     "iopub.status.busy": "2023-06-05T23:55:30.964215Z",
     "iopub.status.idle": "2023-06-05T23:55:30.977398Z",
     "shell.execute_reply": "2023-06-05T23:55:30.976209Z"
    },
    "papermill": {
     "duration": 0.030583,
     "end_time": "2023-06-05T23:55:30.980259",
     "exception": false,
     "start_time": "2023-06-05T23:55:30.949676",
     "status": "completed"
    },
    "tags": []
   },
   "outputs": [],
   "source": [
    "from sklearn.preprocessing import StandardScaler\n",
    "\n",
    "scaler = StandardScaler()\n",
    "X_train = scaler.fit_transform(X_train)\n",
    "X_test = scaler.transform(X_test)"
   ]
  },
  {
   "cell_type": "code",
   "execution_count": 20,
   "id": "15268b5b",
   "metadata": {
    "execution": {
     "iopub.execute_input": "2023-06-05T23:55:31.009081Z",
     "iopub.status.busy": "2023-06-05T23:55:31.008409Z",
     "iopub.status.idle": "2023-06-05T23:55:39.536047Z",
     "shell.execute_reply": "2023-06-05T23:55:39.534591Z"
    },
    "papermill": {
     "duration": 8.545553,
     "end_time": "2023-06-05T23:55:39.539186",
     "exception": false,
     "start_time": "2023-06-05T23:55:30.993633",
     "status": "completed"
    },
    "tags": []
   },
   "outputs": [],
   "source": [
    "import tensorflow as tf\n",
    "\n",
    "# Build the ANN model\n",
    "model = tf.keras.Sequential([\n",
    "    tf.keras.layers.Dense(32, activation='relu', input_shape=(X_train.shape[1],)),\n",
    "    tf.keras.layers.Dense(64, activation='relu'),\n",
    "    tf.keras.layers.Dense(128, activation='relu'),\n",
    "        tf.keras.layers.Dense(128, activation='relu'),\n",
    "    tf.keras.layers.Dense(1, activation='sigmoid')\n",
    "])"
   ]
  },
  {
   "cell_type": "code",
   "execution_count": 21,
   "id": "8027136c",
   "metadata": {
    "execution": {
     "iopub.execute_input": "2023-06-05T23:55:39.567637Z",
     "iopub.status.busy": "2023-06-05T23:55:39.567165Z",
     "iopub.status.idle": "2023-06-05T23:55:39.587887Z",
     "shell.execute_reply": "2023-06-05T23:55:39.586352Z"
    },
    "papermill": {
     "duration": 0.038534,
     "end_time": "2023-06-05T23:55:39.590884",
     "exception": false,
     "start_time": "2023-06-05T23:55:39.552350",
     "status": "completed"
    },
    "tags": []
   },
   "outputs": [],
   "source": [
    "# Compile the model\n",
    "model.compile(optimizer='adam', loss='binary_crossentropy', metrics=['accuracy'])"
   ]
  },
  {
   "cell_type": "code",
   "execution_count": 22,
   "id": "397db941",
   "metadata": {
    "execution": {
     "iopub.execute_input": "2023-06-05T23:55:39.619207Z",
     "iopub.status.busy": "2023-06-05T23:55:39.618754Z",
     "iopub.status.idle": "2023-06-05T23:55:50.778281Z",
     "shell.execute_reply": "2023-06-05T23:55:50.777154Z"
    },
    "papermill": {
     "duration": 11.177143,
     "end_time": "2023-06-05T23:55:50.781215",
     "exception": false,
     "start_time": "2023-06-05T23:55:39.604072",
     "status": "completed"
    },
    "tags": []
   },
   "outputs": [
    {
     "name": "stdout",
     "output_type": "stream",
     "text": [
      "Epoch 1/100\n",
      "23/23 [==============================] - 2s 14ms/step - loss: 0.5973 - accuracy: 0.7022 - val_loss: 0.5013 - val_accuracy: 0.7877\n",
      "Epoch 2/100\n",
      "23/23 [==============================] - 0s 4ms/step - loss: 0.4720 - accuracy: 0.7949 - val_loss: 0.4219 - val_accuracy: 0.8101\n",
      "Epoch 3/100\n",
      "23/23 [==============================] - 0s 4ms/step - loss: 0.4393 - accuracy: 0.8160 - val_loss: 0.4100 - val_accuracy: 0.8156\n",
      "Epoch 4/100\n",
      "23/23 [==============================] - 0s 4ms/step - loss: 0.4022 - accuracy: 0.8357 - val_loss: 0.4115 - val_accuracy: 0.8268\n",
      "Epoch 5/100\n",
      "23/23 [==============================] - 0s 4ms/step - loss: 0.4040 - accuracy: 0.8315 - val_loss: 0.4157 - val_accuracy: 0.8324\n",
      "Epoch 6/100\n",
      "23/23 [==============================] - 0s 4ms/step - loss: 0.3842 - accuracy: 0.8441 - val_loss: 0.4246 - val_accuracy: 0.8380\n",
      "Epoch 7/100\n",
      "23/23 [==============================] - 0s 4ms/step - loss: 0.3691 - accuracy: 0.8413 - val_loss: 0.4191 - val_accuracy: 0.8268\n",
      "Epoch 8/100\n",
      "23/23 [==============================] - 0s 4ms/step - loss: 0.3768 - accuracy: 0.8287 - val_loss: 0.4247 - val_accuracy: 0.8268\n",
      "Epoch 9/100\n",
      "23/23 [==============================] - 0s 4ms/step - loss: 0.3690 - accuracy: 0.8385 - val_loss: 0.4167 - val_accuracy: 0.8268\n",
      "Epoch 10/100\n",
      "23/23 [==============================] - 0s 4ms/step - loss: 0.3644 - accuracy: 0.8371 - val_loss: 0.4227 - val_accuracy: 0.8324\n",
      "Epoch 11/100\n",
      "23/23 [==============================] - 0s 4ms/step - loss: 0.3584 - accuracy: 0.8497 - val_loss: 0.4218 - val_accuracy: 0.8268\n",
      "Epoch 12/100\n",
      "23/23 [==============================] - 0s 4ms/step - loss: 0.3522 - accuracy: 0.8511 - val_loss: 0.4430 - val_accuracy: 0.8212\n",
      "Epoch 13/100\n",
      "23/23 [==============================] - 0s 4ms/step - loss: 0.3429 - accuracy: 0.8624 - val_loss: 0.4343 - val_accuracy: 0.8324\n",
      "Epoch 14/100\n",
      "23/23 [==============================] - 0s 4ms/step - loss: 0.3358 - accuracy: 0.8750 - val_loss: 0.4321 - val_accuracy: 0.8212\n",
      "Epoch 15/100\n",
      "23/23 [==============================] - 0s 4ms/step - loss: 0.3309 - accuracy: 0.8694 - val_loss: 0.4352 - val_accuracy: 0.8324\n",
      "Epoch 16/100\n",
      "23/23 [==============================] - 0s 4ms/step - loss: 0.3213 - accuracy: 0.8666 - val_loss: 0.4445 - val_accuracy: 0.8324\n",
      "Epoch 17/100\n",
      "23/23 [==============================] - 0s 4ms/step - loss: 0.3414 - accuracy: 0.8553 - val_loss: 0.4458 - val_accuracy: 0.8324\n",
      "Epoch 18/100\n",
      "23/23 [==============================] - 0s 4ms/step - loss: 0.3258 - accuracy: 0.8624 - val_loss: 0.4398 - val_accuracy: 0.8268\n",
      "Epoch 19/100\n",
      "23/23 [==============================] - 0s 4ms/step - loss: 0.3160 - accuracy: 0.8778 - val_loss: 0.4483 - val_accuracy: 0.8324\n",
      "Epoch 20/100\n",
      "23/23 [==============================] - 0s 4ms/step - loss: 0.3221 - accuracy: 0.8708 - val_loss: 0.4607 - val_accuracy: 0.8436\n",
      "Epoch 21/100\n",
      "23/23 [==============================] - 0s 4ms/step - loss: 0.3104 - accuracy: 0.8708 - val_loss: 0.4503 - val_accuracy: 0.8156\n",
      "Epoch 22/100\n",
      "23/23 [==============================] - 0s 4ms/step - loss: 0.3153 - accuracy: 0.8736 - val_loss: 0.4751 - val_accuracy: 0.8547\n",
      "Epoch 23/100\n",
      "23/23 [==============================] - 0s 4ms/step - loss: 0.2987 - accuracy: 0.8792 - val_loss: 0.4570 - val_accuracy: 0.8101\n",
      "Epoch 24/100\n",
      "23/23 [==============================] - 0s 4ms/step - loss: 0.3080 - accuracy: 0.8750 - val_loss: 0.4664 - val_accuracy: 0.8492\n",
      "Epoch 25/100\n",
      "23/23 [==============================] - 0s 4ms/step - loss: 0.3050 - accuracy: 0.8778 - val_loss: 0.4770 - val_accuracy: 0.8212\n",
      "Epoch 26/100\n",
      "23/23 [==============================] - 0s 4ms/step - loss: 0.2965 - accuracy: 0.8736 - val_loss: 0.4740 - val_accuracy: 0.8436\n",
      "Epoch 27/100\n",
      "23/23 [==============================] - 0s 4ms/step - loss: 0.3133 - accuracy: 0.8778 - val_loss: 0.4882 - val_accuracy: 0.8380\n",
      "Epoch 28/100\n",
      "23/23 [==============================] - 0s 4ms/step - loss: 0.2928 - accuracy: 0.8778 - val_loss: 0.4715 - val_accuracy: 0.8547\n",
      "Epoch 29/100\n",
      "23/23 [==============================] - 0s 4ms/step - loss: 0.2842 - accuracy: 0.8933 - val_loss: 0.5030 - val_accuracy: 0.8380\n",
      "Epoch 30/100\n",
      "23/23 [==============================] - 0s 4ms/step - loss: 0.2824 - accuracy: 0.8876 - val_loss: 0.5180 - val_accuracy: 0.8492\n",
      "Epoch 31/100\n",
      "23/23 [==============================] - 0s 4ms/step - loss: 0.2956 - accuracy: 0.8806 - val_loss: 0.5066 - val_accuracy: 0.8324\n",
      "Epoch 32/100\n",
      "23/23 [==============================] - 0s 4ms/step - loss: 0.2797 - accuracy: 0.8933 - val_loss: 0.4993 - val_accuracy: 0.8492\n",
      "Epoch 33/100\n",
      "23/23 [==============================] - 0s 4ms/step - loss: 0.2663 - accuracy: 0.8876 - val_loss: 0.5064 - val_accuracy: 0.8268\n",
      "Epoch 34/100\n",
      "23/23 [==============================] - 0s 4ms/step - loss: 0.2662 - accuracy: 0.8904 - val_loss: 0.5115 - val_accuracy: 0.8324\n",
      "Epoch 35/100\n",
      "23/23 [==============================] - 0s 4ms/step - loss: 0.2625 - accuracy: 0.8947 - val_loss: 0.5130 - val_accuracy: 0.8045\n",
      "Epoch 36/100\n",
      "23/23 [==============================] - 0s 4ms/step - loss: 0.2817 - accuracy: 0.8820 - val_loss: 0.5266 - val_accuracy: 0.8324\n",
      "Epoch 37/100\n",
      "23/23 [==============================] - 0s 4ms/step - loss: 0.2660 - accuracy: 0.8904 - val_loss: 0.5121 - val_accuracy: 0.8045\n",
      "Epoch 38/100\n",
      "23/23 [==============================] - 0s 4ms/step - loss: 0.2525 - accuracy: 0.9017 - val_loss: 0.5217 - val_accuracy: 0.8212\n",
      "Epoch 39/100\n",
      "23/23 [==============================] - 0s 4ms/step - loss: 0.2507 - accuracy: 0.8989 - val_loss: 0.5391 - val_accuracy: 0.8268\n",
      "Epoch 40/100\n",
      "23/23 [==============================] - 0s 4ms/step - loss: 0.2502 - accuracy: 0.8919 - val_loss: 0.5360 - val_accuracy: 0.8324\n",
      "Epoch 41/100\n",
      "23/23 [==============================] - 0s 4ms/step - loss: 0.2550 - accuracy: 0.9045 - val_loss: 0.5602 - val_accuracy: 0.8492\n",
      "Epoch 42/100\n",
      "23/23 [==============================] - 0s 4ms/step - loss: 0.2505 - accuracy: 0.9017 - val_loss: 0.5655 - val_accuracy: 0.8380\n",
      "Epoch 43/100\n",
      "23/23 [==============================] - 0s 4ms/step - loss: 0.2344 - accuracy: 0.9045 - val_loss: 0.5571 - val_accuracy: 0.8492\n",
      "Epoch 44/100\n",
      "23/23 [==============================] - 0s 4ms/step - loss: 0.2707 - accuracy: 0.8778 - val_loss: 0.5783 - val_accuracy: 0.8436\n",
      "Epoch 45/100\n",
      "23/23 [==============================] - 0s 4ms/step - loss: 0.2380 - accuracy: 0.9073 - val_loss: 0.5994 - val_accuracy: 0.8324\n",
      "Epoch 46/100\n",
      "23/23 [==============================] - 0s 4ms/step - loss: 0.2332 - accuracy: 0.8947 - val_loss: 0.5851 - val_accuracy: 0.8436\n",
      "Epoch 47/100\n",
      "23/23 [==============================] - 0s 4ms/step - loss: 0.2288 - accuracy: 0.9129 - val_loss: 0.6011 - val_accuracy: 0.8324\n",
      "Epoch 48/100\n",
      "23/23 [==============================] - 0s 4ms/step - loss: 0.2283 - accuracy: 0.8989 - val_loss: 0.6316 - val_accuracy: 0.8436\n",
      "Epoch 49/100\n",
      "23/23 [==============================] - 0s 4ms/step - loss: 0.2291 - accuracy: 0.9017 - val_loss: 0.6225 - val_accuracy: 0.8380\n",
      "Epoch 50/100\n",
      "23/23 [==============================] - 0s 4ms/step - loss: 0.2260 - accuracy: 0.9045 - val_loss: 0.6366 - val_accuracy: 0.8212\n",
      "Epoch 51/100\n",
      "23/23 [==============================] - 0s 4ms/step - loss: 0.2212 - accuracy: 0.9115 - val_loss: 0.6841 - val_accuracy: 0.8380\n",
      "Epoch 52/100\n",
      "23/23 [==============================] - 0s 4ms/step - loss: 0.2320 - accuracy: 0.9045 - val_loss: 0.6461 - val_accuracy: 0.8212\n",
      "Epoch 53/100\n",
      "23/23 [==============================] - 0s 4ms/step - loss: 0.2237 - accuracy: 0.9115 - val_loss: 0.6612 - val_accuracy: 0.8212\n",
      "Epoch 54/100\n",
      "23/23 [==============================] - 0s 4ms/step - loss: 0.2147 - accuracy: 0.9171 - val_loss: 0.6752 - val_accuracy: 0.8380\n",
      "Epoch 55/100\n",
      "23/23 [==============================] - 0s 4ms/step - loss: 0.2087 - accuracy: 0.9115 - val_loss: 0.6947 - val_accuracy: 0.8268\n",
      "Epoch 56/100\n",
      "23/23 [==============================] - 0s 4ms/step - loss: 0.1995 - accuracy: 0.9171 - val_loss: 0.7050 - val_accuracy: 0.8268\n",
      "Epoch 57/100\n",
      "23/23 [==============================] - 0s 4ms/step - loss: 0.2136 - accuracy: 0.9087 - val_loss: 0.7880 - val_accuracy: 0.8045\n",
      "Epoch 58/100\n",
      "23/23 [==============================] - 0s 4ms/step - loss: 0.2242 - accuracy: 0.9129 - val_loss: 0.7097 - val_accuracy: 0.8212\n",
      "Epoch 59/100\n",
      "23/23 [==============================] - 0s 4ms/step - loss: 0.2130 - accuracy: 0.9087 - val_loss: 0.7439 - val_accuracy: 0.8380\n",
      "Epoch 60/100\n",
      "23/23 [==============================] - 0s 4ms/step - loss: 0.2136 - accuracy: 0.9129 - val_loss: 0.7357 - val_accuracy: 0.8101\n",
      "Epoch 61/100\n",
      "23/23 [==============================] - 0s 4ms/step - loss: 0.2104 - accuracy: 0.9199 - val_loss: 0.7439 - val_accuracy: 0.8212\n",
      "Epoch 62/100\n",
      "23/23 [==============================] - 0s 4ms/step - loss: 0.2269 - accuracy: 0.9059 - val_loss: 0.7069 - val_accuracy: 0.8101\n",
      "Epoch 63/100\n",
      "23/23 [==============================] - 0s 4ms/step - loss: 0.2063 - accuracy: 0.9157 - val_loss: 0.7492 - val_accuracy: 0.8212\n",
      "Epoch 64/100\n",
      "23/23 [==============================] - 0s 4ms/step - loss: 0.2041 - accuracy: 0.9185 - val_loss: 0.7831 - val_accuracy: 0.8380\n",
      "Epoch 65/100\n",
      "23/23 [==============================] - 0s 4ms/step - loss: 0.2067 - accuracy: 0.9171 - val_loss: 0.7693 - val_accuracy: 0.8436\n",
      "Epoch 66/100\n",
      "23/23 [==============================] - 0s 5ms/step - loss: 0.1940 - accuracy: 0.9256 - val_loss: 0.7689 - val_accuracy: 0.8212\n",
      "Epoch 67/100\n",
      "23/23 [==============================] - 0s 4ms/step - loss: 0.1855 - accuracy: 0.9228 - val_loss: 0.7841 - val_accuracy: 0.8380\n",
      "Epoch 68/100\n",
      "23/23 [==============================] - 0s 4ms/step - loss: 0.1873 - accuracy: 0.9242 - val_loss: 0.8299 - val_accuracy: 0.8212\n",
      "Epoch 69/100\n",
      "23/23 [==============================] - 0s 4ms/step - loss: 0.1921 - accuracy: 0.9185 - val_loss: 0.7936 - val_accuracy: 0.8268\n",
      "Epoch 70/100\n",
      "23/23 [==============================] - 0s 4ms/step - loss: 0.1785 - accuracy: 0.9284 - val_loss: 0.8194 - val_accuracy: 0.8101\n",
      "Epoch 71/100\n",
      "23/23 [==============================] - 0s 4ms/step - loss: 0.1798 - accuracy: 0.9242 - val_loss: 0.8528 - val_accuracy: 0.8380\n",
      "Epoch 72/100\n",
      "23/23 [==============================] - 0s 4ms/step - loss: 0.1771 - accuracy: 0.9298 - val_loss: 0.8640 - val_accuracy: 0.8212\n",
      "Epoch 73/100\n",
      "23/23 [==============================] - 0s 4ms/step - loss: 0.2272 - accuracy: 0.9087 - val_loss: 0.9176 - val_accuracy: 0.8156\n",
      "Epoch 74/100\n",
      "23/23 [==============================] - 0s 4ms/step - loss: 0.2438 - accuracy: 0.9087 - val_loss: 0.8433 - val_accuracy: 0.8268\n",
      "Epoch 75/100\n",
      "23/23 [==============================] - 0s 4ms/step - loss: 0.2187 - accuracy: 0.9157 - val_loss: 0.7620 - val_accuracy: 0.8324\n",
      "Epoch 76/100\n",
      "23/23 [==============================] - 0s 4ms/step - loss: 0.1764 - accuracy: 0.9213 - val_loss: 0.8446 - val_accuracy: 0.7933\n",
      "Epoch 77/100\n",
      "23/23 [==============================] - 0s 4ms/step - loss: 0.2038 - accuracy: 0.9101 - val_loss: 0.7634 - val_accuracy: 0.8324\n",
      "Epoch 78/100\n",
      "23/23 [==============================] - 0s 4ms/step - loss: 0.1717 - accuracy: 0.9270 - val_loss: 0.8071 - val_accuracy: 0.8492\n",
      "Epoch 79/100\n",
      "23/23 [==============================] - 0s 4ms/step - loss: 0.1705 - accuracy: 0.9326 - val_loss: 0.8393 - val_accuracy: 0.8156\n",
      "Epoch 80/100\n",
      "23/23 [==============================] - 0s 4ms/step - loss: 0.1665 - accuracy: 0.9298 - val_loss: 0.8653 - val_accuracy: 0.8268\n",
      "Epoch 81/100\n",
      "23/23 [==============================] - 0s 5ms/step - loss: 0.1633 - accuracy: 0.9326 - val_loss: 0.8688 - val_accuracy: 0.8547\n",
      "Epoch 82/100\n",
      "23/23 [==============================] - 0s 4ms/step - loss: 0.1746 - accuracy: 0.9256 - val_loss: 0.9270 - val_accuracy: 0.8380\n",
      "Epoch 83/100\n",
      "23/23 [==============================] - 0s 4ms/step - loss: 0.1738 - accuracy: 0.9242 - val_loss: 0.8728 - val_accuracy: 0.8156\n",
      "Epoch 84/100\n",
      "23/23 [==============================] - 0s 4ms/step - loss: 0.1655 - accuracy: 0.9284 - val_loss: 0.9060 - val_accuracy: 0.8380\n",
      "Epoch 85/100\n",
      "23/23 [==============================] - 0s 4ms/step - loss: 0.1709 - accuracy: 0.9410 - val_loss: 0.8769 - val_accuracy: 0.8156\n",
      "Epoch 86/100\n",
      "23/23 [==============================] - 0s 4ms/step - loss: 0.1631 - accuracy: 0.9410 - val_loss: 0.9285 - val_accuracy: 0.8268\n",
      "Epoch 87/100\n",
      "23/23 [==============================] - 0s 4ms/step - loss: 0.2072 - accuracy: 0.9270 - val_loss: 0.8595 - val_accuracy: 0.8380\n",
      "Epoch 88/100\n",
      "23/23 [==============================] - 0s 4ms/step - loss: 0.1738 - accuracy: 0.9284 - val_loss: 0.8171 - val_accuracy: 0.8380\n",
      "Epoch 89/100\n",
      "23/23 [==============================] - 0s 4ms/step - loss: 0.1556 - accuracy: 0.9326 - val_loss: 0.8796 - val_accuracy: 0.8436\n",
      "Epoch 90/100\n",
      "23/23 [==============================] - 0s 4ms/step - loss: 0.1634 - accuracy: 0.9354 - val_loss: 0.9098 - val_accuracy: 0.8212\n",
      "Epoch 91/100\n",
      "23/23 [==============================] - 0s 4ms/step - loss: 0.1516 - accuracy: 0.9368 - val_loss: 0.9070 - val_accuracy: 0.8212\n",
      "Epoch 92/100\n",
      "23/23 [==============================] - 0s 4ms/step - loss: 0.1672 - accuracy: 0.9312 - val_loss: 0.9242 - val_accuracy: 0.8380\n",
      "Epoch 93/100\n",
      "23/23 [==============================] - 0s 4ms/step - loss: 0.1637 - accuracy: 0.9270 - val_loss: 0.9271 - val_accuracy: 0.8212\n",
      "Epoch 94/100\n",
      "23/23 [==============================] - 0s 4ms/step - loss: 0.1639 - accuracy: 0.9284 - val_loss: 0.9396 - val_accuracy: 0.8324\n",
      "Epoch 95/100\n",
      "23/23 [==============================] - 0s 4ms/step - loss: 0.1556 - accuracy: 0.9382 - val_loss: 0.9781 - val_accuracy: 0.8324\n",
      "Epoch 96/100\n",
      "23/23 [==============================] - 0s 4ms/step - loss: 0.1610 - accuracy: 0.9326 - val_loss: 0.9428 - val_accuracy: 0.8156\n",
      "Epoch 97/100\n",
      "23/23 [==============================] - 0s 4ms/step - loss: 0.1654 - accuracy: 0.9312 - val_loss: 0.9386 - val_accuracy: 0.8324\n",
      "Epoch 98/100\n",
      "23/23 [==============================] - 0s 4ms/step - loss: 0.1508 - accuracy: 0.9368 - val_loss: 0.9838 - val_accuracy: 0.8324\n",
      "Epoch 99/100\n",
      "23/23 [==============================] - 0s 4ms/step - loss: 0.1553 - accuracy: 0.9312 - val_loss: 0.9753 - val_accuracy: 0.8268\n",
      "Epoch 100/100\n",
      "23/23 [==============================] - 0s 4ms/step - loss: 0.1365 - accuracy: 0.9480 - val_loss: 1.0361 - val_accuracy: 0.8492\n"
     ]
    },
    {
     "data": {
      "text/plain": [
       "<keras.callbacks.History at 0x7bcf9c0f0f50>"
      ]
     },
     "execution_count": 22,
     "metadata": {},
     "output_type": "execute_result"
    }
   ],
   "source": [
    "# Train the model\n",
    "model.fit(X_train, y_train, epochs=100, batch_size=32, validation_data=(X_test, y_test))"
   ]
  },
  {
   "cell_type": "code",
   "execution_count": 23,
   "id": "a063e7ec",
   "metadata": {
    "execution": {
     "iopub.execute_input": "2023-06-05T23:55:50.865043Z",
     "iopub.status.busy": "2023-06-05T23:55:50.864607Z",
     "iopub.status.idle": "2023-06-05T23:55:50.879886Z",
     "shell.execute_reply": "2023-06-05T23:55:50.878799Z"
    },
    "papermill": {
     "duration": 0.059947,
     "end_time": "2023-06-05T23:55:50.882661",
     "exception": false,
     "start_time": "2023-06-05T23:55:50.822714",
     "status": "completed"
    },
    "tags": []
   },
   "outputs": [],
   "source": [
    "# predict the test data with new model\n",
    "test_df = pd.read_csv('/kaggle/input/titanic/test.csv')"
   ]
  },
  {
   "cell_type": "code",
   "execution_count": 24,
   "id": "ed2d3ced",
   "metadata": {
    "execution": {
     "iopub.execute_input": "2023-06-05T23:55:50.964727Z",
     "iopub.status.busy": "2023-06-05T23:55:50.964156Z",
     "iopub.status.idle": "2023-06-05T23:55:50.983628Z",
     "shell.execute_reply": "2023-06-05T23:55:50.982352Z"
    },
    "papermill": {
     "duration": 0.063296,
     "end_time": "2023-06-05T23:55:50.986340",
     "exception": false,
     "start_time": "2023-06-05T23:55:50.923044",
     "status": "completed"
    },
    "tags": []
   },
   "outputs": [
    {
     "data": {
      "text/html": [
       "<div>\n",
       "<style scoped>\n",
       "    .dataframe tbody tr th:only-of-type {\n",
       "        vertical-align: middle;\n",
       "    }\n",
       "\n",
       "    .dataframe tbody tr th {\n",
       "        vertical-align: top;\n",
       "    }\n",
       "\n",
       "    .dataframe thead th {\n",
       "        text-align: right;\n",
       "    }\n",
       "</style>\n",
       "<table border=\"1\" class=\"dataframe\">\n",
       "  <thead>\n",
       "    <tr style=\"text-align: right;\">\n",
       "      <th></th>\n",
       "      <th>PassengerId</th>\n",
       "      <th>Pclass</th>\n",
       "      <th>Name</th>\n",
       "      <th>Sex</th>\n",
       "      <th>Age</th>\n",
       "      <th>SibSp</th>\n",
       "      <th>Parch</th>\n",
       "      <th>Ticket</th>\n",
       "      <th>Fare</th>\n",
       "      <th>Cabin</th>\n",
       "      <th>Embarked</th>\n",
       "    </tr>\n",
       "  </thead>\n",
       "  <tbody>\n",
       "    <tr>\n",
       "      <th>0</th>\n",
       "      <td>892</td>\n",
       "      <td>3</td>\n",
       "      <td>Kelly, Mr. James</td>\n",
       "      <td>male</td>\n",
       "      <td>34.5</td>\n",
       "      <td>0</td>\n",
       "      <td>0</td>\n",
       "      <td>330911</td>\n",
       "      <td>7.8292</td>\n",
       "      <td>NaN</td>\n",
       "      <td>Q</td>\n",
       "    </tr>\n",
       "    <tr>\n",
       "      <th>1</th>\n",
       "      <td>893</td>\n",
       "      <td>3</td>\n",
       "      <td>Wilkes, Mrs. James (Ellen Needs)</td>\n",
       "      <td>female</td>\n",
       "      <td>47.0</td>\n",
       "      <td>1</td>\n",
       "      <td>0</td>\n",
       "      <td>363272</td>\n",
       "      <td>7.0000</td>\n",
       "      <td>NaN</td>\n",
       "      <td>S</td>\n",
       "    </tr>\n",
       "    <tr>\n",
       "      <th>2</th>\n",
       "      <td>894</td>\n",
       "      <td>2</td>\n",
       "      <td>Myles, Mr. Thomas Francis</td>\n",
       "      <td>male</td>\n",
       "      <td>62.0</td>\n",
       "      <td>0</td>\n",
       "      <td>0</td>\n",
       "      <td>240276</td>\n",
       "      <td>9.6875</td>\n",
       "      <td>NaN</td>\n",
       "      <td>Q</td>\n",
       "    </tr>\n",
       "    <tr>\n",
       "      <th>3</th>\n",
       "      <td>895</td>\n",
       "      <td>3</td>\n",
       "      <td>Wirz, Mr. Albert</td>\n",
       "      <td>male</td>\n",
       "      <td>27.0</td>\n",
       "      <td>0</td>\n",
       "      <td>0</td>\n",
       "      <td>315154</td>\n",
       "      <td>8.6625</td>\n",
       "      <td>NaN</td>\n",
       "      <td>S</td>\n",
       "    </tr>\n",
       "    <tr>\n",
       "      <th>4</th>\n",
       "      <td>896</td>\n",
       "      <td>3</td>\n",
       "      <td>Hirvonen, Mrs. Alexander (Helga E Lindqvist)</td>\n",
       "      <td>female</td>\n",
       "      <td>22.0</td>\n",
       "      <td>1</td>\n",
       "      <td>1</td>\n",
       "      <td>3101298</td>\n",
       "      <td>12.2875</td>\n",
       "      <td>NaN</td>\n",
       "      <td>S</td>\n",
       "    </tr>\n",
       "  </tbody>\n",
       "</table>\n",
       "</div>"
      ],
      "text/plain": [
       "   PassengerId  Pclass                                          Name     Sex  \\\n",
       "0          892       3                              Kelly, Mr. James    male   \n",
       "1          893       3              Wilkes, Mrs. James (Ellen Needs)  female   \n",
       "2          894       2                     Myles, Mr. Thomas Francis    male   \n",
       "3          895       3                              Wirz, Mr. Albert    male   \n",
       "4          896       3  Hirvonen, Mrs. Alexander (Helga E Lindqvist)  female   \n",
       "\n",
       "    Age  SibSp  Parch   Ticket     Fare Cabin Embarked  \n",
       "0  34.5      0      0   330911   7.8292   NaN        Q  \n",
       "1  47.0      1      0   363272   7.0000   NaN        S  \n",
       "2  62.0      0      0   240276   9.6875   NaN        Q  \n",
       "3  27.0      0      0   315154   8.6625   NaN        S  \n",
       "4  22.0      1      1  3101298  12.2875   NaN        S  "
      ]
     },
     "execution_count": 24,
     "metadata": {},
     "output_type": "execute_result"
    }
   ],
   "source": [
    "test_df.head()"
   ]
  },
  {
   "cell_type": "code",
   "execution_count": 25,
   "id": "38a953bc",
   "metadata": {
    "execution": {
     "iopub.execute_input": "2023-06-05T23:55:51.069123Z",
     "iopub.status.busy": "2023-06-05T23:55:51.068701Z",
     "iopub.status.idle": "2023-06-05T23:55:51.088322Z",
     "shell.execute_reply": "2023-06-05T23:55:51.087311Z"
    },
    "papermill": {
     "duration": 0.064253,
     "end_time": "2023-06-05T23:55:51.091131",
     "exception": false,
     "start_time": "2023-06-05T23:55:51.026878",
     "status": "completed"
    },
    "tags": []
   },
   "outputs": [],
   "source": [
    "# applying the same pre-processing steps\n",
    "# impute age with median\n",
    "test_df['Age'].fillna(test_df['Age'].median(),inplace=True)\n",
    "\n",
    "# drop cabin column\n",
    "test_df.drop('Cabin',axis=1,inplace=True)\n",
    "\n",
    "# drop name column, ticket column\n",
    "test_df.drop([\"Name\",\"Ticket\"],axis=1,inplace=True)\n",
    "\n",
    "# make male = 1, female = 0\n",
    "test_df['Sex'] = test_df['Sex'].map({'male': 1, 'female': 0})\n",
    "\n",
    "# convert age as int\n",
    "test_df['Age'] = test_df['Age'].astype(int)\n",
    "\n",
    "# one hot encode Embarked column and drop it from the original df\n",
    "encoded_df = pd.get_dummies(test_df['Embarked'], prefix='Embarked')\n",
    "df_encoded = pd.concat([test_df, encoded_df], axis=1)\n",
    "df_encoded = df_encoded.drop('Embarked', axis=1)\n",
    "\n",
    "df_encoded = scaler.transform(df_encoded)"
   ]
  },
  {
   "cell_type": "code",
   "execution_count": 26,
   "id": "ca866e85",
   "metadata": {
    "execution": {
     "iopub.execute_input": "2023-06-05T23:55:51.173599Z",
     "iopub.status.busy": "2023-06-05T23:55:51.173127Z",
     "iopub.status.idle": "2023-06-05T23:55:51.181724Z",
     "shell.execute_reply": "2023-06-05T23:55:51.180539Z"
    },
    "papermill": {
     "duration": 0.052895,
     "end_time": "2023-06-05T23:55:51.184212",
     "exception": false,
     "start_time": "2023-06-05T23:55:51.131317",
     "status": "completed"
    },
    "tags": []
   },
   "outputs": [
    {
     "data": {
      "text/plain": [
       "array([[ 1.72973532,  0.81303367,  0.7243102 , ..., -0.46146201,\n",
       "         3.29646275, -1.67555562],\n",
       "       [ 1.73363318,  0.81303367, -1.38062393, ..., -0.46146201,\n",
       "        -0.30335547,  0.59681695],\n",
       "       [ 1.73753104, -0.40055118,  0.7243102 , ..., -0.46146201,\n",
       "         3.29646275, -1.67555562],\n",
       "       ...,\n",
       "       [ 3.34734697,  0.81303367,  0.7243102 , ..., -0.46146201,\n",
       "        -0.30335547,  0.59681695],\n",
       "       [ 3.35124483,  0.81303367,  0.7243102 , ..., -0.46146201,\n",
       "        -0.30335547,  0.59681695],\n",
       "       [ 3.35514269,  0.81303367,  0.7243102 , ...,  2.16702561,\n",
       "        -0.30335547, -1.67555562]])"
      ]
     },
     "execution_count": 26,
     "metadata": {},
     "output_type": "execute_result"
    }
   ],
   "source": [
    "df_encoded"
   ]
  },
  {
   "cell_type": "code",
   "execution_count": 27,
   "id": "60604f2e",
   "metadata": {
    "execution": {
     "iopub.execute_input": "2023-06-05T23:55:51.267238Z",
     "iopub.status.busy": "2023-06-05T23:55:51.266362Z",
     "iopub.status.idle": "2023-06-05T23:55:51.482908Z",
     "shell.execute_reply": "2023-06-05T23:55:51.481848Z"
    },
    "papermill": {
     "duration": 0.261196,
     "end_time": "2023-06-05T23:55:51.485750",
     "exception": false,
     "start_time": "2023-06-05T23:55:51.224554",
     "status": "completed"
    },
    "tags": []
   },
   "outputs": [
    {
     "name": "stdout",
     "output_type": "stream",
     "text": [
      "14/14 [==============================] - 0s 2ms/step\n"
     ]
    }
   ],
   "source": [
    "y_pred = model.predict(df_encoded)"
   ]
  },
  {
   "cell_type": "code",
   "execution_count": 28,
   "id": "14957dc6",
   "metadata": {
    "execution": {
     "iopub.execute_input": "2023-06-05T23:55:51.569559Z",
     "iopub.status.busy": "2023-06-05T23:55:51.568460Z",
     "iopub.status.idle": "2023-06-05T23:55:51.576141Z",
     "shell.execute_reply": "2023-06-05T23:55:51.574787Z"
    },
    "papermill": {
     "duration": 0.051947,
     "end_time": "2023-06-05T23:55:51.578676",
     "exception": false,
     "start_time": "2023-06-05T23:55:51.526729",
     "status": "completed"
    },
    "tags": []
   },
   "outputs": [
    {
     "data": {
      "text/plain": [
       "(418, 1)"
      ]
     },
     "execution_count": 28,
     "metadata": {},
     "output_type": "execute_result"
    }
   ],
   "source": [
    "y_pred.shape"
   ]
  },
  {
   "cell_type": "code",
   "execution_count": 29,
   "id": "30c92dfd",
   "metadata": {
    "execution": {
     "iopub.execute_input": "2023-06-05T23:55:51.663637Z",
     "iopub.status.busy": "2023-06-05T23:55:51.663172Z",
     "iopub.status.idle": "2023-06-05T23:55:51.668924Z",
     "shell.execute_reply": "2023-06-05T23:55:51.667752Z"
    },
    "papermill": {
     "duration": 0.051006,
     "end_time": "2023-06-05T23:55:51.671363",
     "exception": false,
     "start_time": "2023-06-05T23:55:51.620357",
     "status": "completed"
    },
    "tags": []
   },
   "outputs": [],
   "source": [
    "threshold = 0.5\n",
    "y_pred_classes = (y_pred > threshold).astype(int)"
   ]
  },
  {
   "cell_type": "code",
   "execution_count": 30,
   "id": "5aca1e47",
   "metadata": {
    "execution": {
     "iopub.execute_input": "2023-06-05T23:55:51.755923Z",
     "iopub.status.busy": "2023-06-05T23:55:51.755107Z",
     "iopub.status.idle": "2023-06-05T23:55:51.763678Z",
     "shell.execute_reply": "2023-06-05T23:55:51.762374Z"
    },
    "papermill": {
     "duration": 0.053387,
     "end_time": "2023-06-05T23:55:51.766175",
     "exception": false,
     "start_time": "2023-06-05T23:55:51.712788",
     "status": "completed"
    },
    "tags": []
   },
   "outputs": [
    {
     "data": {
      "text/plain": [
       "(418, 1)"
      ]
     },
     "execution_count": 30,
     "metadata": {},
     "output_type": "execute_result"
    }
   ],
   "source": [
    "y_pred_classes.shape"
   ]
  },
  {
   "cell_type": "code",
   "execution_count": 31,
   "id": "830a7e99",
   "metadata": {
    "execution": {
     "iopub.execute_input": "2023-06-05T23:55:51.850499Z",
     "iopub.status.busy": "2023-06-05T23:55:51.850030Z",
     "iopub.status.idle": "2023-06-05T23:55:51.856002Z",
     "shell.execute_reply": "2023-06-05T23:55:51.854846Z"
    },
    "papermill": {
     "duration": 0.051257,
     "end_time": "2023-06-05T23:55:51.858885",
     "exception": false,
     "start_time": "2023-06-05T23:55:51.807628",
     "status": "completed"
    },
    "tags": []
   },
   "outputs": [],
   "source": [
    "final_df = pd.DataFrame()"
   ]
  },
  {
   "cell_type": "code",
   "execution_count": 32,
   "id": "9bbf59dc",
   "metadata": {
    "execution": {
     "iopub.execute_input": "2023-06-05T23:55:51.943489Z",
     "iopub.status.busy": "2023-06-05T23:55:51.942821Z",
     "iopub.status.idle": "2023-06-05T23:55:51.950377Z",
     "shell.execute_reply": "2023-06-05T23:55:51.949157Z"
    },
    "papermill": {
     "duration": 0.05339,
     "end_time": "2023-06-05T23:55:51.953128",
     "exception": false,
     "start_time": "2023-06-05T23:55:51.899738",
     "status": "completed"
    },
    "tags": []
   },
   "outputs": [],
   "source": [
    "final_df['PassengerId'] = test_df.PassengerId\n",
    "final_df['Survived'] = y_pred_classes"
   ]
  },
  {
   "cell_type": "code",
   "execution_count": 33,
   "id": "be511ed3",
   "metadata": {
    "execution": {
     "iopub.execute_input": "2023-06-05T23:55:52.037245Z",
     "iopub.status.busy": "2023-06-05T23:55:52.036808Z",
     "iopub.status.idle": "2023-06-05T23:55:52.049406Z",
     "shell.execute_reply": "2023-06-05T23:55:52.048284Z"
    },
    "papermill": {
     "duration": 0.057863,
     "end_time": "2023-06-05T23:55:52.051822",
     "exception": false,
     "start_time": "2023-06-05T23:55:51.993959",
     "status": "completed"
    },
    "tags": []
   },
   "outputs": [
    {
     "data": {
      "text/html": [
       "<div>\n",
       "<style scoped>\n",
       "    .dataframe tbody tr th:only-of-type {\n",
       "        vertical-align: middle;\n",
       "    }\n",
       "\n",
       "    .dataframe tbody tr th {\n",
       "        vertical-align: top;\n",
       "    }\n",
       "\n",
       "    .dataframe thead th {\n",
       "        text-align: right;\n",
       "    }\n",
       "</style>\n",
       "<table border=\"1\" class=\"dataframe\">\n",
       "  <thead>\n",
       "    <tr style=\"text-align: right;\">\n",
       "      <th></th>\n",
       "      <th>PassengerId</th>\n",
       "      <th>Survived</th>\n",
       "    </tr>\n",
       "  </thead>\n",
       "  <tbody>\n",
       "    <tr>\n",
       "      <th>0</th>\n",
       "      <td>892</td>\n",
       "      <td>0</td>\n",
       "    </tr>\n",
       "    <tr>\n",
       "      <th>1</th>\n",
       "      <td>893</td>\n",
       "      <td>1</td>\n",
       "    </tr>\n",
       "    <tr>\n",
       "      <th>2</th>\n",
       "      <td>894</td>\n",
       "      <td>0</td>\n",
       "    </tr>\n",
       "    <tr>\n",
       "      <th>3</th>\n",
       "      <td>895</td>\n",
       "      <td>0</td>\n",
       "    </tr>\n",
       "    <tr>\n",
       "      <th>4</th>\n",
       "      <td>896</td>\n",
       "      <td>0</td>\n",
       "    </tr>\n",
       "    <tr>\n",
       "      <th>...</th>\n",
       "      <td>...</td>\n",
       "      <td>...</td>\n",
       "    </tr>\n",
       "    <tr>\n",
       "      <th>413</th>\n",
       "      <td>1305</td>\n",
       "      <td>0</td>\n",
       "    </tr>\n",
       "    <tr>\n",
       "      <th>414</th>\n",
       "      <td>1306</td>\n",
       "      <td>1</td>\n",
       "    </tr>\n",
       "    <tr>\n",
       "      <th>415</th>\n",
       "      <td>1307</td>\n",
       "      <td>0</td>\n",
       "    </tr>\n",
       "    <tr>\n",
       "      <th>416</th>\n",
       "      <td>1308</td>\n",
       "      <td>0</td>\n",
       "    </tr>\n",
       "    <tr>\n",
       "      <th>417</th>\n",
       "      <td>1309</td>\n",
       "      <td>0</td>\n",
       "    </tr>\n",
       "  </tbody>\n",
       "</table>\n",
       "<p>418 rows × 2 columns</p>\n",
       "</div>"
      ],
      "text/plain": [
       "     PassengerId  Survived\n",
       "0            892         0\n",
       "1            893         1\n",
       "2            894         0\n",
       "3            895         0\n",
       "4            896         0\n",
       "..           ...       ...\n",
       "413         1305         0\n",
       "414         1306         1\n",
       "415         1307         0\n",
       "416         1308         0\n",
       "417         1309         0\n",
       "\n",
       "[418 rows x 2 columns]"
      ]
     },
     "execution_count": 33,
     "metadata": {},
     "output_type": "execute_result"
    }
   ],
   "source": [
    "final_df"
   ]
  },
  {
   "cell_type": "code",
   "execution_count": 34,
   "id": "b06ac63c",
   "metadata": {
    "execution": {
     "iopub.execute_input": "2023-06-05T23:55:52.136288Z",
     "iopub.status.busy": "2023-06-05T23:55:52.135860Z",
     "iopub.status.idle": "2023-06-05T23:55:52.147744Z",
     "shell.execute_reply": "2023-06-05T23:55:52.146713Z"
    },
    "papermill": {
     "duration": 0.056871,
     "end_time": "2023-06-05T23:55:52.150310",
     "exception": false,
     "start_time": "2023-06-05T23:55:52.093439",
     "status": "completed"
    },
    "tags": []
   },
   "outputs": [],
   "source": [
    "# write to csv file\n",
    "# Assuming your DataFrame is called df\n",
    "final_df.to_csv('submission.csv', index=False)"
   ]
  }
 ],
 "metadata": {
  "kernelspec": {
   "display_name": "Python 3",
   "language": "python",
   "name": "python3"
  },
  "language_info": {
   "codemirror_mode": {
    "name": "ipython",
    "version": 3
   },
   "file_extension": ".py",
   "mimetype": "text/x-python",
   "name": "python",
   "nbconvert_exporter": "python",
   "pygments_lexer": "ipython3",
   "version": "3.7.12"
  },
  "papermill": {
   "default_parameters": {},
   "duration": 39.276735,
   "end_time": "2023-06-05T23:55:55.810702",
   "environment_variables": {},
   "exception": null,
   "input_path": "__notebook__.ipynb",
   "output_path": "__notebook__.ipynb",
   "parameters": {},
   "start_time": "2023-06-05T23:55:16.533967",
   "version": "2.4.0"
  }
 },
 "nbformat": 4,
 "nbformat_minor": 5
}
