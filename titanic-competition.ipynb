{
 "cells": [
  {
   "cell_type": "code",
   "execution_count": 1,
   "id": "441ac489",
   "metadata": {
    "_cell_guid": "b1076dfc-b9ad-4769-8c92-a6c4dae69d19",
    "_uuid": "8f2839f25d086af736a60e9eeb907d3b93b6e0e5",
    "execution": {
     "iopub.execute_input": "2023-06-05T23:26:53.041607Z",
     "iopub.status.busy": "2023-06-05T23:26:53.041159Z",
     "iopub.status.idle": "2023-06-05T23:26:53.054556Z",
     "shell.execute_reply": "2023-06-05T23:26:53.053416Z"
    },
    "papermill": {
     "duration": 0.023206,
     "end_time": "2023-06-05T23:26:53.056542",
     "exception": false,
     "start_time": "2023-06-05T23:26:53.033336",
     "status": "completed"
    },
    "tags": []
   },
   "outputs": [
    {
     "name": "stdout",
     "output_type": "stream",
     "text": [
      "/kaggle/input/titanic/train.csv\n",
      "/kaggle/input/titanic/test.csv\n",
      "/kaggle/input/titanic/gender_submission.csv\n"
     ]
    }
   ],
   "source": [
    "# This Python 3 environment comes with many helpful analytics libraries installed\n",
    "# It is defined by the kaggle/python Docker image: https://github.com/kaggle/docker-python\n",
    "# For example, here's several helpful packages to load\n",
    "\n",
    "import numpy as np # linear algebra\n",
    "import pandas as pd # data processing, CSV file I/O (e.g. pd.read_csv)\n",
    "\n",
    "# Input data files are available in the read-only \"../input/\" directory\n",
    "# For example, running this (by clicking run or pressing Shift+Enter) will list all files under the input directory\n",
    "\n",
    "import os\n",
    "for dirname, _, filenames in os.walk('/kaggle/input'):\n",
    "    for filename in filenames:\n",
    "        print(os.path.join(dirname, filename))\n",
    "\n",
    "# You can write up to 20GB to the current directory (/kaggle/working/) that gets preserved as output when you create a version using \"Save & Run All\" \n",
    "# You can also write temporary files to /kaggle/temp/, but they won't be saved outside of the current session"
   ]
  },
  {
   "cell_type": "code",
   "execution_count": 2,
   "id": "3e46f23f",
   "metadata": {
    "execution": {
     "iopub.execute_input": "2023-06-05T23:26:53.068298Z",
     "iopub.status.busy": "2023-06-05T23:26:53.067944Z",
     "iopub.status.idle": "2023-06-05T23:26:53.088237Z",
     "shell.execute_reply": "2023-06-05T23:26:53.087330Z"
    },
    "papermill": {
     "duration": 0.028654,
     "end_time": "2023-06-05T23:26:53.090437",
     "exception": false,
     "start_time": "2023-06-05T23:26:53.061783",
     "status": "completed"
    },
    "tags": []
   },
   "outputs": [],
   "source": [
    "# read data\n",
    "train_data_df = pd.read_csv('/kaggle/input/titanic/train.csv')"
   ]
  },
  {
   "cell_type": "code",
   "execution_count": 3,
   "id": "e28ac442",
   "metadata": {
    "execution": {
     "iopub.execute_input": "2023-06-05T23:26:53.103851Z",
     "iopub.status.busy": "2023-06-05T23:26:53.102666Z",
     "iopub.status.idle": "2023-06-05T23:26:53.130098Z",
     "shell.execute_reply": "2023-06-05T23:26:53.129138Z"
    },
    "papermill": {
     "duration": 0.036254,
     "end_time": "2023-06-05T23:26:53.132452",
     "exception": false,
     "start_time": "2023-06-05T23:26:53.096198",
     "status": "completed"
    },
    "tags": []
   },
   "outputs": [
    {
     "data": {
      "text/html": [
       "<div>\n",
       "<style scoped>\n",
       "    .dataframe tbody tr th:only-of-type {\n",
       "        vertical-align: middle;\n",
       "    }\n",
       "\n",
       "    .dataframe tbody tr th {\n",
       "        vertical-align: top;\n",
       "    }\n",
       "\n",
       "    .dataframe thead th {\n",
       "        text-align: right;\n",
       "    }\n",
       "</style>\n",
       "<table border=\"1\" class=\"dataframe\">\n",
       "  <thead>\n",
       "    <tr style=\"text-align: right;\">\n",
       "      <th></th>\n",
       "      <th>PassengerId</th>\n",
       "      <th>Survived</th>\n",
       "      <th>Pclass</th>\n",
       "      <th>Name</th>\n",
       "      <th>Sex</th>\n",
       "      <th>Age</th>\n",
       "      <th>SibSp</th>\n",
       "      <th>Parch</th>\n",
       "      <th>Ticket</th>\n",
       "      <th>Fare</th>\n",
       "      <th>Cabin</th>\n",
       "      <th>Embarked</th>\n",
       "    </tr>\n",
       "  </thead>\n",
       "  <tbody>\n",
       "    <tr>\n",
       "      <th>0</th>\n",
       "      <td>1</td>\n",
       "      <td>0</td>\n",
       "      <td>3</td>\n",
       "      <td>Braund, Mr. Owen Harris</td>\n",
       "      <td>male</td>\n",
       "      <td>22.0</td>\n",
       "      <td>1</td>\n",
       "      <td>0</td>\n",
       "      <td>A/5 21171</td>\n",
       "      <td>7.2500</td>\n",
       "      <td>NaN</td>\n",
       "      <td>S</td>\n",
       "    </tr>\n",
       "    <tr>\n",
       "      <th>1</th>\n",
       "      <td>2</td>\n",
       "      <td>1</td>\n",
       "      <td>1</td>\n",
       "      <td>Cumings, Mrs. John Bradley (Florence Briggs Th...</td>\n",
       "      <td>female</td>\n",
       "      <td>38.0</td>\n",
       "      <td>1</td>\n",
       "      <td>0</td>\n",
       "      <td>PC 17599</td>\n",
       "      <td>71.2833</td>\n",
       "      <td>C85</td>\n",
       "      <td>C</td>\n",
       "    </tr>\n",
       "    <tr>\n",
       "      <th>2</th>\n",
       "      <td>3</td>\n",
       "      <td>1</td>\n",
       "      <td>3</td>\n",
       "      <td>Heikkinen, Miss. Laina</td>\n",
       "      <td>female</td>\n",
       "      <td>26.0</td>\n",
       "      <td>0</td>\n",
       "      <td>0</td>\n",
       "      <td>STON/O2. 3101282</td>\n",
       "      <td>7.9250</td>\n",
       "      <td>NaN</td>\n",
       "      <td>S</td>\n",
       "    </tr>\n",
       "    <tr>\n",
       "      <th>3</th>\n",
       "      <td>4</td>\n",
       "      <td>1</td>\n",
       "      <td>1</td>\n",
       "      <td>Futrelle, Mrs. Jacques Heath (Lily May Peel)</td>\n",
       "      <td>female</td>\n",
       "      <td>35.0</td>\n",
       "      <td>1</td>\n",
       "      <td>0</td>\n",
       "      <td>113803</td>\n",
       "      <td>53.1000</td>\n",
       "      <td>C123</td>\n",
       "      <td>S</td>\n",
       "    </tr>\n",
       "    <tr>\n",
       "      <th>4</th>\n",
       "      <td>5</td>\n",
       "      <td>0</td>\n",
       "      <td>3</td>\n",
       "      <td>Allen, Mr. William Henry</td>\n",
       "      <td>male</td>\n",
       "      <td>35.0</td>\n",
       "      <td>0</td>\n",
       "      <td>0</td>\n",
       "      <td>373450</td>\n",
       "      <td>8.0500</td>\n",
       "      <td>NaN</td>\n",
       "      <td>S</td>\n",
       "    </tr>\n",
       "  </tbody>\n",
       "</table>\n",
       "</div>"
      ],
      "text/plain": [
       "   PassengerId  Survived  Pclass  \\\n",
       "0            1         0       3   \n",
       "1            2         1       1   \n",
       "2            3         1       3   \n",
       "3            4         1       1   \n",
       "4            5         0       3   \n",
       "\n",
       "                                                Name     Sex   Age  SibSp  \\\n",
       "0                            Braund, Mr. Owen Harris    male  22.0      1   \n",
       "1  Cumings, Mrs. John Bradley (Florence Briggs Th...  female  38.0      1   \n",
       "2                             Heikkinen, Miss. Laina  female  26.0      0   \n",
       "3       Futrelle, Mrs. Jacques Heath (Lily May Peel)  female  35.0      1   \n",
       "4                           Allen, Mr. William Henry    male  35.0      0   \n",
       "\n",
       "   Parch            Ticket     Fare Cabin Embarked  \n",
       "0      0         A/5 21171   7.2500   NaN        S  \n",
       "1      0          PC 17599  71.2833   C85        C  \n",
       "2      0  STON/O2. 3101282   7.9250   NaN        S  \n",
       "3      0            113803  53.1000  C123        S  \n",
       "4      0            373450   8.0500   NaN        S  "
      ]
     },
     "execution_count": 3,
     "metadata": {},
     "output_type": "execute_result"
    }
   ],
   "source": [
    "# check data\n",
    "train_data_df.head()"
   ]
  },
  {
   "cell_type": "code",
   "execution_count": 4,
   "id": "ad3598ec",
   "metadata": {
    "execution": {
     "iopub.execute_input": "2023-06-05T23:26:53.144909Z",
     "iopub.status.busy": "2023-06-05T23:26:53.144404Z",
     "iopub.status.idle": "2023-06-05T23:26:53.150247Z",
     "shell.execute_reply": "2023-06-05T23:26:53.149062Z"
    },
    "papermill": {
     "duration": 0.014042,
     "end_time": "2023-06-05T23:26:53.152203",
     "exception": false,
     "start_time": "2023-06-05T23:26:53.138161",
     "status": "completed"
    },
    "tags": []
   },
   "outputs": [
    {
     "data": {
      "text/plain": [
       "(891, 12)"
      ]
     },
     "execution_count": 4,
     "metadata": {},
     "output_type": "execute_result"
    }
   ],
   "source": [
    "# check shape\n",
    "train_data_df.shape"
   ]
  },
  {
   "cell_type": "code",
   "execution_count": 5,
   "id": "70145bcd",
   "metadata": {
    "execution": {
     "iopub.execute_input": "2023-06-05T23:26:53.164854Z",
     "iopub.status.busy": "2023-06-05T23:26:53.164183Z",
     "iopub.status.idle": "2023-06-05T23:26:53.172080Z",
     "shell.execute_reply": "2023-06-05T23:26:53.171254Z"
    },
    "papermill": {
     "duration": 0.016256,
     "end_time": "2023-06-05T23:26:53.173824",
     "exception": false,
     "start_time": "2023-06-05T23:26:53.157568",
     "status": "completed"
    },
    "tags": []
   },
   "outputs": [
    {
     "data": {
      "text/plain": [
       "PassengerId      0\n",
       "Survived         0\n",
       "Pclass           0\n",
       "Name             0\n",
       "Sex              0\n",
       "Age            177\n",
       "SibSp            0\n",
       "Parch            0\n",
       "Ticket           0\n",
       "Fare             0\n",
       "Cabin          687\n",
       "Embarked         2\n",
       "dtype: int64"
      ]
     },
     "execution_count": 5,
     "metadata": {},
     "output_type": "execute_result"
    }
   ],
   "source": [
    "# check for null values\n",
    "train_data_df.isna().sum()"
   ]
  },
  {
   "cell_type": "code",
   "execution_count": 6,
   "id": "cb6a5492",
   "metadata": {
    "execution": {
     "iopub.execute_input": "2023-06-05T23:26:53.186313Z",
     "iopub.status.busy": "2023-06-05T23:26:53.185669Z",
     "iopub.status.idle": "2023-06-05T23:26:53.195107Z",
     "shell.execute_reply": "2023-06-05T23:26:53.193946Z"
    },
    "papermill": {
     "duration": 0.018651,
     "end_time": "2023-06-05T23:26:53.197847",
     "exception": false,
     "start_time": "2023-06-05T23:26:53.179196",
     "status": "completed"
    },
    "tags": []
   },
   "outputs": [],
   "source": [
    "# impute age with median\n",
    "train_data_df['Age'].fillna(train_data_df['Age'].median(),inplace=True)"
   ]
  },
  {
   "cell_type": "code",
   "execution_count": 7,
   "id": "a19bbe22",
   "metadata": {
    "execution": {
     "iopub.execute_input": "2023-06-05T23:26:53.210678Z",
     "iopub.status.busy": "2023-06-05T23:26:53.210352Z",
     "iopub.status.idle": "2023-06-05T23:26:53.219658Z",
     "shell.execute_reply": "2023-06-05T23:26:53.218391Z"
    },
    "papermill": {
     "duration": 0.017836,
     "end_time": "2023-06-05T23:26:53.221474",
     "exception": false,
     "start_time": "2023-06-05T23:26:53.203638",
     "status": "completed"
    },
    "tags": []
   },
   "outputs": [
    {
     "data": {
      "text/plain": [
       "PassengerId      0\n",
       "Survived         0\n",
       "Pclass           0\n",
       "Name             0\n",
       "Sex              0\n",
       "Age              0\n",
       "SibSp            0\n",
       "Parch            0\n",
       "Ticket           0\n",
       "Fare             0\n",
       "Cabin          687\n",
       "Embarked         2\n",
       "dtype: int64"
      ]
     },
     "execution_count": 7,
     "metadata": {},
     "output_type": "execute_result"
    }
   ],
   "source": [
    "# check for null values\n",
    "train_data_df.isna().sum()"
   ]
  },
  {
   "cell_type": "code",
   "execution_count": 8,
   "id": "39952fa5",
   "metadata": {
    "execution": {
     "iopub.execute_input": "2023-06-05T23:26:53.235596Z",
     "iopub.status.busy": "2023-06-05T23:26:53.234929Z",
     "iopub.status.idle": "2023-06-05T23:26:53.242643Z",
     "shell.execute_reply": "2023-06-05T23:26:53.241264Z"
    },
    "papermill": {
     "duration": 0.0173,
     "end_time": "2023-06-05T23:26:53.245153",
     "exception": false,
     "start_time": "2023-06-05T23:26:53.227853",
     "status": "completed"
    },
    "tags": []
   },
   "outputs": [
    {
     "data": {
      "text/plain": [
       "<bound method IndexOpsMixin.value_counts of 0       NaN\n",
       "1       C85\n",
       "2       NaN\n",
       "3      C123\n",
       "4       NaN\n",
       "       ... \n",
       "886     NaN\n",
       "887     B42\n",
       "888     NaN\n",
       "889    C148\n",
       "890     NaN\n",
       "Name: Cabin, Length: 891, dtype: object>"
      ]
     },
     "execution_count": 8,
     "metadata": {},
     "output_type": "execute_result"
    }
   ],
   "source": [
    "# check cabin\n",
    "train_data_df['Cabin'].value_counts"
   ]
  },
  {
   "cell_type": "code",
   "execution_count": 9,
   "id": "185ee064",
   "metadata": {
    "execution": {
     "iopub.execute_input": "2023-06-05T23:26:53.258509Z",
     "iopub.status.busy": "2023-06-05T23:26:53.258143Z",
     "iopub.status.idle": "2023-06-05T23:26:53.267050Z",
     "shell.execute_reply": "2023-06-05T23:26:53.266021Z"
    },
    "papermill": {
     "duration": 0.017946,
     "end_time": "2023-06-05T23:26:53.269075",
     "exception": false,
     "start_time": "2023-06-05T23:26:53.251129",
     "status": "completed"
    },
    "tags": []
   },
   "outputs": [],
   "source": [
    "# drop cabin column\n",
    "train_data_df.drop('Cabin',axis=1,inplace=True)"
   ]
  },
  {
   "cell_type": "code",
   "execution_count": 10,
   "id": "c03b6b08",
   "metadata": {
    "execution": {
     "iopub.execute_input": "2023-06-05T23:26:53.282875Z",
     "iopub.status.busy": "2023-06-05T23:26:53.282544Z",
     "iopub.status.idle": "2023-06-05T23:26:53.289582Z",
     "shell.execute_reply": "2023-06-05T23:26:53.288647Z"
    },
    "papermill": {
     "duration": 0.016907,
     "end_time": "2023-06-05T23:26:53.291929",
     "exception": false,
     "start_time": "2023-06-05T23:26:53.275022",
     "status": "completed"
    },
    "tags": []
   },
   "outputs": [],
   "source": [
    "# drop name column, ticket column\n",
    "train_data_df.drop([\"Name\",\"Ticket\"],axis=1,inplace=True)"
   ]
  },
  {
   "cell_type": "code",
   "execution_count": 11,
   "id": "b7a3c10f",
   "metadata": {
    "execution": {
     "iopub.execute_input": "2023-06-05T23:26:53.305667Z",
     "iopub.status.busy": "2023-06-05T23:26:53.304922Z",
     "iopub.status.idle": "2023-06-05T23:26:53.313817Z",
     "shell.execute_reply": "2023-06-05T23:26:53.313099Z"
    },
    "papermill": {
     "duration": 0.017499,
     "end_time": "2023-06-05T23:26:53.315578",
     "exception": false,
     "start_time": "2023-06-05T23:26:53.298079",
     "status": "completed"
    },
    "tags": []
   },
   "outputs": [
    {
     "data": {
      "text/plain": [
       "male      577\n",
       "female    314\n",
       "Name: Sex, dtype: int64"
      ]
     },
     "execution_count": 11,
     "metadata": {},
     "output_type": "execute_result"
    }
   ],
   "source": [
    "# check sex column\n",
    "train_data_df.Sex.value_counts()"
   ]
  },
  {
   "cell_type": "code",
   "execution_count": 12,
   "id": "86dbb576",
   "metadata": {
    "execution": {
     "iopub.execute_input": "2023-06-05T23:26:53.330023Z",
     "iopub.status.busy": "2023-06-05T23:26:53.329569Z",
     "iopub.status.idle": "2023-06-05T23:26:53.334932Z",
     "shell.execute_reply": "2023-06-05T23:26:53.334133Z"
    },
    "papermill": {
     "duration": 0.014937,
     "end_time": "2023-06-05T23:26:53.337293",
     "exception": false,
     "start_time": "2023-06-05T23:26:53.322356",
     "status": "completed"
    },
    "tags": []
   },
   "outputs": [],
   "source": [
    "# make male = 1, female = 0\n",
    "train_data_df['Sex'] = train_data_df['Sex'].map({'male': 1, 'female': 0})"
   ]
  },
  {
   "cell_type": "code",
   "execution_count": 13,
   "id": "9797aec8",
   "metadata": {
    "execution": {
     "iopub.execute_input": "2023-06-05T23:26:53.351662Z",
     "iopub.status.busy": "2023-06-05T23:26:53.350905Z",
     "iopub.status.idle": "2023-06-05T23:26:53.364451Z",
     "shell.execute_reply": "2023-06-05T23:26:53.363488Z"
    },
    "papermill": {
     "duration": 0.022587,
     "end_time": "2023-06-05T23:26:53.366372",
     "exception": false,
     "start_time": "2023-06-05T23:26:53.343785",
     "status": "completed"
    },
    "tags": []
   },
   "outputs": [
    {
     "data": {
      "text/html": [
       "<div>\n",
       "<style scoped>\n",
       "    .dataframe tbody tr th:only-of-type {\n",
       "        vertical-align: middle;\n",
       "    }\n",
       "\n",
       "    .dataframe tbody tr th {\n",
       "        vertical-align: top;\n",
       "    }\n",
       "\n",
       "    .dataframe thead th {\n",
       "        text-align: right;\n",
       "    }\n",
       "</style>\n",
       "<table border=\"1\" class=\"dataframe\">\n",
       "  <thead>\n",
       "    <tr style=\"text-align: right;\">\n",
       "      <th></th>\n",
       "      <th>PassengerId</th>\n",
       "      <th>Survived</th>\n",
       "      <th>Pclass</th>\n",
       "      <th>Sex</th>\n",
       "      <th>Age</th>\n",
       "      <th>SibSp</th>\n",
       "      <th>Parch</th>\n",
       "      <th>Fare</th>\n",
       "      <th>Embarked</th>\n",
       "    </tr>\n",
       "  </thead>\n",
       "  <tbody>\n",
       "    <tr>\n",
       "      <th>0</th>\n",
       "      <td>1</td>\n",
       "      <td>0</td>\n",
       "      <td>3</td>\n",
       "      <td>1</td>\n",
       "      <td>22.0</td>\n",
       "      <td>1</td>\n",
       "      <td>0</td>\n",
       "      <td>7.2500</td>\n",
       "      <td>S</td>\n",
       "    </tr>\n",
       "    <tr>\n",
       "      <th>1</th>\n",
       "      <td>2</td>\n",
       "      <td>1</td>\n",
       "      <td>1</td>\n",
       "      <td>0</td>\n",
       "      <td>38.0</td>\n",
       "      <td>1</td>\n",
       "      <td>0</td>\n",
       "      <td>71.2833</td>\n",
       "      <td>C</td>\n",
       "    </tr>\n",
       "    <tr>\n",
       "      <th>2</th>\n",
       "      <td>3</td>\n",
       "      <td>1</td>\n",
       "      <td>3</td>\n",
       "      <td>0</td>\n",
       "      <td>26.0</td>\n",
       "      <td>0</td>\n",
       "      <td>0</td>\n",
       "      <td>7.9250</td>\n",
       "      <td>S</td>\n",
       "    </tr>\n",
       "    <tr>\n",
       "      <th>3</th>\n",
       "      <td>4</td>\n",
       "      <td>1</td>\n",
       "      <td>1</td>\n",
       "      <td>0</td>\n",
       "      <td>35.0</td>\n",
       "      <td>1</td>\n",
       "      <td>0</td>\n",
       "      <td>53.1000</td>\n",
       "      <td>S</td>\n",
       "    </tr>\n",
       "    <tr>\n",
       "      <th>4</th>\n",
       "      <td>5</td>\n",
       "      <td>0</td>\n",
       "      <td>3</td>\n",
       "      <td>1</td>\n",
       "      <td>35.0</td>\n",
       "      <td>0</td>\n",
       "      <td>0</td>\n",
       "      <td>8.0500</td>\n",
       "      <td>S</td>\n",
       "    </tr>\n",
       "  </tbody>\n",
       "</table>\n",
       "</div>"
      ],
      "text/plain": [
       "   PassengerId  Survived  Pclass  Sex   Age  SibSp  Parch     Fare Embarked\n",
       "0            1         0       3    1  22.0      1      0   7.2500        S\n",
       "1            2         1       1    0  38.0      1      0  71.2833        C\n",
       "2            3         1       3    0  26.0      0      0   7.9250        S\n",
       "3            4         1       1    0  35.0      1      0  53.1000        S\n",
       "4            5         0       3    1  35.0      0      0   8.0500        S"
      ]
     },
     "execution_count": 13,
     "metadata": {},
     "output_type": "execute_result"
    }
   ],
   "source": [
    "# check df\n",
    "train_data_df.head()"
   ]
  },
  {
   "cell_type": "code",
   "execution_count": 14,
   "id": "f1eaf36b",
   "metadata": {
    "execution": {
     "iopub.execute_input": "2023-06-05T23:26:53.380634Z",
     "iopub.status.busy": "2023-06-05T23:26:53.380118Z",
     "iopub.status.idle": "2023-06-05T23:26:53.385142Z",
     "shell.execute_reply": "2023-06-05T23:26:53.384170Z"
    },
    "papermill": {
     "duration": 0.014768,
     "end_time": "2023-06-05T23:26:53.387389",
     "exception": false,
     "start_time": "2023-06-05T23:26:53.372621",
     "status": "completed"
    },
    "tags": []
   },
   "outputs": [],
   "source": [
    "# convert age as int\n",
    "train_data_df['Age'] = train_data_df['Age'].astype(int)"
   ]
  },
  {
   "cell_type": "code",
   "execution_count": 15,
   "id": "f8232afa",
   "metadata": {
    "execution": {
     "iopub.execute_input": "2023-06-05T23:26:53.401388Z",
     "iopub.status.busy": "2023-06-05T23:26:53.400853Z",
     "iopub.status.idle": "2023-06-05T23:26:53.409195Z",
     "shell.execute_reply": "2023-06-05T23:26:53.408174Z"
    },
    "papermill": {
     "duration": 0.017272,
     "end_time": "2023-06-05T23:26:53.410949",
     "exception": false,
     "start_time": "2023-06-05T23:26:53.393677",
     "status": "completed"
    },
    "tags": []
   },
   "outputs": [
    {
     "data": {
      "text/plain": [
       "S    644\n",
       "C    168\n",
       "Q     77\n",
       "Name: Embarked, dtype: int64"
      ]
     },
     "execution_count": 15,
     "metadata": {},
     "output_type": "execute_result"
    }
   ],
   "source": [
    "# check embarked column\n",
    "train_data_df.Embarked.value_counts()"
   ]
  },
  {
   "cell_type": "code",
   "execution_count": 16,
   "id": "3af96bf4",
   "metadata": {
    "execution": {
     "iopub.execute_input": "2023-06-05T23:26:53.424447Z",
     "iopub.status.busy": "2023-06-05T23:26:53.423871Z",
     "iopub.status.idle": "2023-06-05T23:26:53.434694Z",
     "shell.execute_reply": "2023-06-05T23:26:53.433700Z"
    },
    "papermill": {
     "duration": 0.019889,
     "end_time": "2023-06-05T23:26:53.436783",
     "exception": false,
     "start_time": "2023-06-05T23:26:53.416894",
     "status": "completed"
    },
    "tags": []
   },
   "outputs": [],
   "source": [
    "# Assuming your dataframe is called df and the column to encode is called 'category'\n",
    "encoded_df = pd.get_dummies(train_data_df['Embarked'], prefix='Embarked')\n",
    "\n",
    "# Concatenate the original dataframe with the encoded columns\n",
    "df_encoded = pd.concat([train_data_df, encoded_df], axis=1)\n",
    "\n",
    "# Drop the original 'category' column if desired\n",
    "df_encoded = df_encoded.drop('Embarked', axis=1)\n"
   ]
  },
  {
   "cell_type": "code",
   "execution_count": 17,
   "id": "c01262d3",
   "metadata": {
    "execution": {
     "iopub.execute_input": "2023-06-05T23:26:53.451128Z",
     "iopub.status.busy": "2023-06-05T23:26:53.450756Z",
     "iopub.status.idle": "2023-06-05T23:26:53.457002Z",
     "shell.execute_reply": "2023-06-05T23:26:53.455867Z"
    },
    "papermill": {
     "duration": 0.0154,
     "end_time": "2023-06-05T23:26:53.459048",
     "exception": false,
     "start_time": "2023-06-05T23:26:53.443648",
     "status": "completed"
    },
    "tags": []
   },
   "outputs": [],
   "source": [
    "# Splitting the data into features and target variable\n",
    "X = df_encoded.drop('Survived', axis=1)  # Features\n",
    "y = df_encoded['Survived']  # Target variable"
   ]
  },
  {
   "cell_type": "code",
   "execution_count": 18,
   "id": "0320238f",
   "metadata": {
    "execution": {
     "iopub.execute_input": "2023-06-05T23:26:53.473145Z",
     "iopub.status.busy": "2023-06-05T23:26:53.472731Z",
     "iopub.status.idle": "2023-06-05T23:26:54.496402Z",
     "shell.execute_reply": "2023-06-05T23:26:54.494742Z"
    },
    "papermill": {
     "duration": 1.033648,
     "end_time": "2023-06-05T23:26:54.499136",
     "exception": false,
     "start_time": "2023-06-05T23:26:53.465488",
     "status": "completed"
    },
    "tags": []
   },
   "outputs": [],
   "source": [
    "from sklearn.model_selection import train_test_split\n",
    "\n",
    "# Splitting the data into training and testing sets (80% train, 20% test)\n",
    "X_train, X_test, y_train, y_test = train_test_split(X, y, test_size=0.2, random_state=42)"
   ]
  },
  {
   "cell_type": "code",
   "execution_count": 19,
   "id": "f3cd8415",
   "metadata": {
    "execution": {
     "iopub.execute_input": "2023-06-05T23:26:54.513318Z",
     "iopub.status.busy": "2023-06-05T23:26:54.512890Z",
     "iopub.status.idle": "2023-06-05T23:26:54.523258Z",
     "shell.execute_reply": "2023-06-05T23:26:54.522364Z"
    },
    "papermill": {
     "duration": 0.01978,
     "end_time": "2023-06-05T23:26:54.525342",
     "exception": false,
     "start_time": "2023-06-05T23:26:54.505562",
     "status": "completed"
    },
    "tags": []
   },
   "outputs": [],
   "source": [
    "from sklearn.preprocessing import StandardScaler\n",
    "\n",
    "scaler = StandardScaler()\n",
    "X_train = scaler.fit_transform(X_train)\n",
    "X_test = scaler.transform(X_test)"
   ]
  },
  {
   "cell_type": "code",
   "execution_count": 20,
   "id": "fbb48342",
   "metadata": {
    "execution": {
     "iopub.execute_input": "2023-06-05T23:26:54.540211Z",
     "iopub.status.busy": "2023-06-05T23:26:54.539780Z",
     "iopub.status.idle": "2023-06-05T23:27:02.474273Z",
     "shell.execute_reply": "2023-06-05T23:27:02.473125Z"
    },
    "papermill": {
     "duration": 7.94534,
     "end_time": "2023-06-05T23:27:02.476949",
     "exception": false,
     "start_time": "2023-06-05T23:26:54.531609",
     "status": "completed"
    },
    "tags": []
   },
   "outputs": [],
   "source": [
    "import tensorflow as tf\n",
    "\n",
    "# Build the ANN model\n",
    "model = tf.keras.Sequential([\n",
    "    tf.keras.layers.Dense(64, activation='relu', input_shape=(X_train.shape[1],)),\n",
    "    tf.keras.layers.Dense(64, activation='relu'),\n",
    "    tf.keras.layers.Dense(1, activation='sigmoid')\n",
    "])"
   ]
  },
  {
   "cell_type": "code",
   "execution_count": 21,
   "id": "ce617c5e",
   "metadata": {
    "execution": {
     "iopub.execute_input": "2023-06-05T23:27:02.490423Z",
     "iopub.status.busy": "2023-06-05T23:27:02.490081Z",
     "iopub.status.idle": "2023-06-05T23:27:02.506529Z",
     "shell.execute_reply": "2023-06-05T23:27:02.505247Z"
    },
    "papermill": {
     "duration": 0.025719,
     "end_time": "2023-06-05T23:27:02.508778",
     "exception": false,
     "start_time": "2023-06-05T23:27:02.483059",
     "status": "completed"
    },
    "tags": []
   },
   "outputs": [],
   "source": [
    "# Compile the model\n",
    "model.compile(optimizer='adam', loss='binary_crossentropy', metrics=['accuracy'])"
   ]
  },
  {
   "cell_type": "code",
   "execution_count": 22,
   "id": "3f62059c",
   "metadata": {
    "execution": {
     "iopub.execute_input": "2023-06-05T23:27:02.522998Z",
     "iopub.status.busy": "2023-06-05T23:27:02.522634Z",
     "iopub.status.idle": "2023-06-05T23:27:05.266278Z",
     "shell.execute_reply": "2023-06-05T23:27:05.265125Z"
    },
    "papermill": {
     "duration": 2.753399,
     "end_time": "2023-06-05T23:27:05.268648",
     "exception": false,
     "start_time": "2023-06-05T23:27:02.515249",
     "status": "completed"
    },
    "tags": []
   },
   "outputs": [
    {
     "name": "stdout",
     "output_type": "stream",
     "text": [
      "Epoch 1/20\n",
      "23/23 [==============================] - 1s 10ms/step - loss: 0.6130 - accuracy: 0.6713 - val_loss: 0.5198 - val_accuracy: 0.7598\n",
      "Epoch 2/20\n",
      "23/23 [==============================] - 0s 3ms/step - loss: 0.4974 - accuracy: 0.7851 - val_loss: 0.4551 - val_accuracy: 0.8101\n",
      "Epoch 3/20\n",
      "23/23 [==============================] - 0s 3ms/step - loss: 0.4500 - accuracy: 0.8202 - val_loss: 0.4335 - val_accuracy: 0.8101\n",
      "Epoch 4/20\n",
      "23/23 [==============================] - 0s 3ms/step - loss: 0.4287 - accuracy: 0.8062 - val_loss: 0.4272 - val_accuracy: 0.8045\n",
      "Epoch 5/20\n",
      "23/23 [==============================] - 0s 3ms/step - loss: 0.4152 - accuracy: 0.8174 - val_loss: 0.4209 - val_accuracy: 0.8101\n",
      "Epoch 6/20\n",
      "23/23 [==============================] - 0s 3ms/step - loss: 0.4071 - accuracy: 0.8244 - val_loss: 0.4145 - val_accuracy: 0.8101\n",
      "Epoch 7/20\n",
      "23/23 [==============================] - 0s 3ms/step - loss: 0.4038 - accuracy: 0.8357 - val_loss: 0.4178 - val_accuracy: 0.8156\n",
      "Epoch 8/20\n",
      "23/23 [==============================] - 0s 3ms/step - loss: 0.3946 - accuracy: 0.8357 - val_loss: 0.4148 - val_accuracy: 0.8156\n",
      "Epoch 9/20\n",
      "23/23 [==============================] - 0s 3ms/step - loss: 0.3920 - accuracy: 0.8357 - val_loss: 0.4138 - val_accuracy: 0.8101\n",
      "Epoch 10/20\n",
      "23/23 [==============================] - 0s 3ms/step - loss: 0.3897 - accuracy: 0.8329 - val_loss: 0.4159 - val_accuracy: 0.8101\n",
      "Epoch 11/20\n",
      "23/23 [==============================] - 0s 3ms/step - loss: 0.3839 - accuracy: 0.8469 - val_loss: 0.4225 - val_accuracy: 0.8101\n",
      "Epoch 12/20\n",
      "23/23 [==============================] - 0s 3ms/step - loss: 0.3814 - accuracy: 0.8455 - val_loss: 0.4248 - val_accuracy: 0.8101\n",
      "Epoch 13/20\n",
      "23/23 [==============================] - 0s 3ms/step - loss: 0.3789 - accuracy: 0.8469 - val_loss: 0.4223 - val_accuracy: 0.8101\n",
      "Epoch 14/20\n",
      "23/23 [==============================] - 0s 3ms/step - loss: 0.3788 - accuracy: 0.8455 - val_loss: 0.4152 - val_accuracy: 0.8268\n",
      "Epoch 15/20\n",
      "23/23 [==============================] - 0s 3ms/step - loss: 0.3742 - accuracy: 0.8455 - val_loss: 0.4189 - val_accuracy: 0.8101\n",
      "Epoch 16/20\n",
      "23/23 [==============================] - 0s 3ms/step - loss: 0.3729 - accuracy: 0.8525 - val_loss: 0.4208 - val_accuracy: 0.8045\n",
      "Epoch 17/20\n",
      "23/23 [==============================] - 0s 3ms/step - loss: 0.3685 - accuracy: 0.8455 - val_loss: 0.4147 - val_accuracy: 0.8268\n",
      "Epoch 18/20\n",
      "23/23 [==============================] - 0s 3ms/step - loss: 0.3653 - accuracy: 0.8441 - val_loss: 0.4233 - val_accuracy: 0.8101\n",
      "Epoch 19/20\n",
      "23/23 [==============================] - 0s 3ms/step - loss: 0.3633 - accuracy: 0.8441 - val_loss: 0.4197 - val_accuracy: 0.8212\n",
      "Epoch 20/20\n",
      "23/23 [==============================] - 0s 3ms/step - loss: 0.3619 - accuracy: 0.8483 - val_loss: 0.4241 - val_accuracy: 0.8101\n"
     ]
    },
    {
     "data": {
      "text/plain": [
       "<keras.callbacks.History at 0x7d9023ad7790>"
      ]
     },
     "execution_count": 22,
     "metadata": {},
     "output_type": "execute_result"
    }
   ],
   "source": [
    "# Train the model\n",
    "model.fit(X_train, y_train, epochs=20, batch_size=32, validation_data=(X_test, y_test))"
   ]
  }
 ],
 "metadata": {
  "kernelspec": {
   "display_name": "Python 3",
   "language": "python",
   "name": "python3"
  },
  "language_info": {
   "codemirror_mode": {
    "name": "ipython",
    "version": 3
   },
   "file_extension": ".py",
   "mimetype": "text/x-python",
   "name": "python",
   "nbconvert_exporter": "python",
   "pygments_lexer": "ipython3",
   "version": "3.7.12"
  },
  "papermill": {
   "default_parameters": {},
   "duration": 24.944188,
   "end_time": "2023-06-05T23:27:08.170441",
   "environment_variables": {},
   "exception": null,
   "input_path": "__notebook__.ipynb",
   "output_path": "__notebook__.ipynb",
   "parameters": {},
   "start_time": "2023-06-05T23:26:43.226253",
   "version": "2.4.0"
  }
 },
 "nbformat": 4,
 "nbformat_minor": 5
}
